{
 "cells": [
  {
   "cell_type": "markdown",
   "id": "47829c14",
   "metadata": {},
   "source": [
    "## import necessary libraries"
   ]
  },
  {
   "cell_type": "code",
   "execution_count": 1,
   "id": "62b1bad4",
   "metadata": {},
   "outputs": [],
   "source": [
    "import re\n",
    "import nltk\n",
    "import string\n",
    "import warnings\n",
    "import numpy as np\n",
    "import pandas as pd\n",
    "import seaborn as sns\n",
    "import matplotlib.pyplot as plt\n",
    "pd.set_option(\"display.max_colwidth\",200)\n",
    "warnings.filterwarnings(\"ignore\",category=DeprecationWarning)\n",
    "%matplotlib inline\n"
   ]
  },
  {
   "cell_type": "code",
   "execution_count": 2,
   "id": "090ed88c",
   "metadata": {},
   "outputs": [],
   "source": [
    "train=pd.read_csv('C:\\\\Users\\\\user\\\\Downloads\\\\sentiment analysis\\\\train_E6oV3lV.csv')\n",
    "test=pd.read_csv('C:\\\\Users\\\\user\\\\Downloads\\\\sentiment analysis\\\\test_tweets_anuFYb8.csv')"
   ]
  },
  {
   "cell_type": "code",
   "execution_count": 3,
   "id": "038e0ca8",
   "metadata": {},
   "outputs": [
    {
     "data": {
      "text/html": [
       "<div>\n",
       "<style scoped>\n",
       "    .dataframe tbody tr th:only-of-type {\n",
       "        vertical-align: middle;\n",
       "    }\n",
       "\n",
       "    .dataframe tbody tr th {\n",
       "        vertical-align: top;\n",
       "    }\n",
       "\n",
       "    .dataframe thead th {\n",
       "        text-align: right;\n",
       "    }\n",
       "</style>\n",
       "<table border=\"1\" class=\"dataframe\">\n",
       "  <thead>\n",
       "    <tr style=\"text-align: right;\">\n",
       "      <th></th>\n",
       "      <th>id</th>\n",
       "      <th>label</th>\n",
       "      <th>tweet</th>\n",
       "    </tr>\n",
       "  </thead>\n",
       "  <tbody>\n",
       "    <tr>\n",
       "      <th>0</th>\n",
       "      <td>1</td>\n",
       "      <td>0</td>\n",
       "      <td>@user when a father is dysfunctional and is so selfish he drags his kids into his dysfunction.   #run</td>\n",
       "    </tr>\n",
       "    <tr>\n",
       "      <th>1</th>\n",
       "      <td>2</td>\n",
       "      <td>0</td>\n",
       "      <td>@user @user thanks for #lyft credit i can't use cause they don't offer wheelchair vans in pdx.    #disapointed #getthanked</td>\n",
       "    </tr>\n",
       "    <tr>\n",
       "      <th>2</th>\n",
       "      <td>3</td>\n",
       "      <td>0</td>\n",
       "      <td>bihday your majesty</td>\n",
       "    </tr>\n",
       "    <tr>\n",
       "      <th>3</th>\n",
       "      <td>4</td>\n",
       "      <td>0</td>\n",
       "      <td>#model   i love u take with u all the time in urð±!!! ðððð",
       "ð¦ð¦ð¦</td>\n",
       "    </tr>\n",
       "    <tr>\n",
       "      <th>4</th>\n",
       "      <td>5</td>\n",
       "      <td>0</td>\n",
       "      <td>factsguide: society now    #motivation</td>\n",
       "    </tr>\n",
       "    <tr>\n",
       "      <th>5</th>\n",
       "      <td>6</td>\n",
       "      <td>0</td>\n",
       "      <td>[2/2] huge fan fare and big talking before they leave. chaos and pay disputes when they get there. #allshowandnogo</td>\n",
       "    </tr>\n",
       "    <tr>\n",
       "      <th>6</th>\n",
       "      <td>7</td>\n",
       "      <td>0</td>\n",
       "      <td>@user camping tomorrow @user @user @user @user @user @user @user dannyâ¦</td>\n",
       "    </tr>\n",
       "    <tr>\n",
       "      <th>7</th>\n",
       "      <td>8</td>\n",
       "      <td>0</td>\n",
       "      <td>the next school year is the year for exams.ð¯ can't think about that ð­ #school #exams   #hate #imagine #actorslife #revolutionschool #girl</td>\n",
       "    </tr>\n",
       "    <tr>\n",
       "      <th>8</th>\n",
       "      <td>9</td>\n",
       "      <td>0</td>\n",
       "      <td>we won!!! love the land!!! #allin #cavs #champions #cleveland #clevelandcavaliers  â¦</td>\n",
       "    </tr>\n",
       "    <tr>\n",
       "      <th>9</th>\n",
       "      <td>10</td>\n",
       "      <td>0</td>\n",
       "      <td>@user @user welcome here !  i'm   it's so #gr8 !</td>\n",
       "    </tr>\n",
       "  </tbody>\n",
       "</table>\n",
       "</div>"
      ],
      "text/plain": [
       "   id  label  \\\n",
       "0   1      0   \n",
       "1   2      0   \n",
       "2   3      0   \n",
       "3   4      0   \n",
       "4   5      0   \n",
       "5   6      0   \n",
       "6   7      0   \n",
       "7   8      0   \n",
       "8   9      0   \n",
       "9  10      0   \n",
       "\n",
       "                                                                                                                                             tweet  \n",
       "0                                            @user when a father is dysfunctional and is so selfish he drags his kids into his dysfunction.   #run  \n",
       "1                       @user @user thanks for #lyft credit i can't use cause they don't offer wheelchair vans in pdx.    #disapointed #getthanked  \n",
       "2                                                                                                                              bihday your majesty  \n",
       "3                                                           #model   i love u take with u all the time in urð±!!! ðððð\n",
       "ð¦ð¦ð¦    \n",
       "4                                                                                                           factsguide: society now    #motivation  \n",
       "5                             [2/2] huge fan fare and big talking before they leave. chaos and pay disputes when they get there. #allshowandnogo    \n",
       "6                                                                        @user camping tomorrow @user @user @user @user @user @user @user dannyâ¦  \n",
       "7  the next school year is the year for exams.ð¯ can't think about that ð­ #school #exams   #hate #imagine #actorslife #revolutionschool #girl  \n",
       "8                                                          we won!!! love the land!!! #allin #cavs #champions #cleveland #clevelandcavaliers  â¦   \n",
       "9                                                                                                @user @user welcome here !  i'm   it's so #gr8 !   "
      ]
     },
     "execution_count": 3,
     "metadata": {},
     "output_type": "execute_result"
    }
   ],
   "source": [
    "train[train['label']==0].head(10)"
   ]
  },
  {
   "cell_type": "code",
   "execution_count": 4,
   "id": "444dd1bf",
   "metadata": {},
   "outputs": [
    {
     "data": {
      "text/html": [
       "<div>\n",
       "<style scoped>\n",
       "    .dataframe tbody tr th:only-of-type {\n",
       "        vertical-align: middle;\n",
       "    }\n",
       "\n",
       "    .dataframe tbody tr th {\n",
       "        vertical-align: top;\n",
       "    }\n",
       "\n",
       "    .dataframe thead th {\n",
       "        text-align: right;\n",
       "    }\n",
       "</style>\n",
       "<table border=\"1\" class=\"dataframe\">\n",
       "  <thead>\n",
       "    <tr style=\"text-align: right;\">\n",
       "      <th></th>\n",
       "      <th>id</th>\n",
       "      <th>label</th>\n",
       "      <th>tweet</th>\n",
       "    </tr>\n",
       "  </thead>\n",
       "  <tbody>\n",
       "    <tr>\n",
       "      <th>13</th>\n",
       "      <td>14</td>\n",
       "      <td>1</td>\n",
       "      <td>@user #cnn calls #michigan middle school 'build the wall' chant '' #tcot</td>\n",
       "    </tr>\n",
       "    <tr>\n",
       "      <th>14</th>\n",
       "      <td>15</td>\n",
       "      <td>1</td>\n",
       "      <td>no comment!  in #australia   #opkillingbay #seashepherd #helpcovedolphins #thecove  #helpcovedolphins</td>\n",
       "    </tr>\n",
       "    <tr>\n",
       "      <th>17</th>\n",
       "      <td>18</td>\n",
       "      <td>1</td>\n",
       "      <td>retweet if you agree!</td>\n",
       "    </tr>\n",
       "    <tr>\n",
       "      <th>23</th>\n",
       "      <td>24</td>\n",
       "      <td>1</td>\n",
       "      <td>@user @user lumpy says i am a . prove it lumpy.</td>\n",
       "    </tr>\n",
       "    <tr>\n",
       "      <th>34</th>\n",
       "      <td>35</td>\n",
       "      <td>1</td>\n",
       "      <td>it's unbelievable that in the 21st century we'd need something like this. again. #neverump  #xenophobia</td>\n",
       "    </tr>\n",
       "    <tr>\n",
       "      <th>56</th>\n",
       "      <td>57</td>\n",
       "      <td>1</td>\n",
       "      <td>@user lets fight against  #love #peace</td>\n",
       "    </tr>\n",
       "    <tr>\n",
       "      <th>68</th>\n",
       "      <td>69</td>\n",
       "      <td>1</td>\n",
       "      <td>ð©the white establishment can't have blk folx running around loving themselves and promoting our greatness</td>\n",
       "    </tr>\n",
       "    <tr>\n",
       "      <th>77</th>\n",
       "      <td>78</td>\n",
       "      <td>1</td>\n",
       "      <td>@user hey, white people: you can call people 'white' by @user  #race  #identity #medâ¦</td>\n",
       "    </tr>\n",
       "    <tr>\n",
       "      <th>82</th>\n",
       "      <td>83</td>\n",
       "      <td>1</td>\n",
       "      <td>how the #altright uses  &amp;amp; insecurity to lure men into #whitesupremacy</td>\n",
       "    </tr>\n",
       "    <tr>\n",
       "      <th>111</th>\n",
       "      <td>112</td>\n",
       "      <td>1</td>\n",
       "      <td>@user i'm not interested in a #linguistics that doesn't address #race &amp;amp; . racism is about #power. #raciolinguistics bringsâ¦</td>\n",
       "    </tr>\n",
       "  </tbody>\n",
       "</table>\n",
       "</div>"
      ],
      "text/plain": [
       "      id  label  \\\n",
       "13    14      1   \n",
       "14    15      1   \n",
       "17    18      1   \n",
       "23    24      1   \n",
       "34    35      1   \n",
       "56    57      1   \n",
       "68    69      1   \n",
       "77    78      1   \n",
       "82    83      1   \n",
       "111  112      1   \n",
       "\n",
       "                                                                                                                                 tweet  \n",
       "13                                                          @user #cnn calls #michigan middle school 'build the wall' chant '' #tcot    \n",
       "14                               no comment!  in #australia   #opkillingbay #seashepherd #helpcovedolphins #thecove  #helpcovedolphins  \n",
       "17                                                                                                              retweet if you agree!   \n",
       "23                                                                                     @user @user lumpy says i am a . prove it lumpy.  \n",
       "34                            it's unbelievable that in the 21st century we'd need something like this. again. #neverump  #xenophobia   \n",
       "56                                                                                             @user lets fight against  #love #peace   \n",
       "68                      ð©the white establishment can't have blk folx running around loving themselves and promoting our greatness    \n",
       "77                                             @user hey, white people: you can call people 'white' by @user  #race  #identity #medâ¦  \n",
       "82                                                       how the #altright uses  &amp; insecurity to lure men into #whitesupremacy      \n",
       "111  @user i'm not interested in a #linguistics that doesn't address #race &amp; . racism is about #power. #raciolinguistics bringsâ¦  "
      ]
     },
     "execution_count": 4,
     "metadata": {},
     "output_type": "execute_result"
    }
   ],
   "source": [
    "train[train['label']==1].head(10)"
   ]
  },
  {
   "cell_type": "markdown",
   "id": "04a570e2",
   "metadata": {},
   "source": [
    "### label distribution"
   ]
  },
  {
   "cell_type": "code",
   "execution_count": 5,
   "id": "8ec764db",
   "metadata": {},
   "outputs": [
    {
     "data": {
      "text/plain": [
       "0    29720\n",
       "1     2242\n",
       "Name: label, dtype: int64"
      ]
     },
     "execution_count": 5,
     "metadata": {},
     "output_type": "execute_result"
    }
   ],
   "source": [
    "label_counts=train['label'].value_counts()\n",
    "label_counts"
   ]
  },
  {
   "cell_type": "code",
   "execution_count": 6,
   "id": "0e911369",
   "metadata": {},
   "outputs": [
    {
     "data": {
      "text/plain": [
       "0    92.98542\n",
       "1     7.01458\n",
       "Name: label, dtype: float64"
      ]
     },
     "execution_count": 6,
     "metadata": {},
     "output_type": "execute_result"
    }
   ],
   "source": [
    "label_percentages = (label_counts / len(train)) *100 \n",
    "label_percentages"
   ]
  },
  {
   "cell_type": "markdown",
   "id": "06d282f4",
   "metadata": {},
   "source": [
    "\n",
    "Nearly 93% of the dataset contains non racist tweets and 7% contains racist tweets.\n",
    "\n",
    "So its an imbalanced dataset"
   ]
  },
  {
   "cell_type": "markdown",
   "id": "6ba3f2b1",
   "metadata": {},
   "source": [
    "## Distribution of lengths of tweets in both training and testing dataset"
   ]
  },
  {
   "cell_type": "code",
   "execution_count": 7,
   "id": "c81bba61",
   "metadata": {},
   "outputs": [
    {
     "data": {
      "image/png": "[encoded data removed]",
      "text/plain": [
       "<Figure size 432x288 with 1 Axes>"
      ]
     },
     "metadata": {
      "needs_background": "light"
     },
     "output_type": "display_data"
    }
   ],
   "source": [
    "length_train=train['tweet'].str.len()\n",
    "length_test=test['tweet'].str.len()\n",
    "plt.hist(length_train,bins=20,label='train_tweets')\n",
    "plt.hist(length_test,bins=20,label='test_tweets')\n",
    "plt.legend()\n",
    "plt.show()"
   ]
  },
  {
   "cell_type": "markdown",
   "id": "9923ac3d",
   "metadata": {},
   "source": [
    "## combining training and testing dataset for preprocessig convinience"
   ]
  },
  {
   "cell_type": "code",
   "execution_count": 16,
   "id": "8ebe69bf",
   "metadata": {},
   "outputs": [
    {
     "name": "stderr",
     "output_type": "stream",
     "text": [
      "C:\\Users\\user\\AppData\\Local\\Temp\\ipykernel_4912\\895996237.py:1: FutureWarning: The frame.append method is deprecated and will be removed from pandas in a future version. Use pandas.concat instead.\n",
      "  combi=train.append(test,ignore_index=True)\n"
     ]
    },
    {
     "data": {
      "text/plain": [
       "(49159, 3)"
      ]
     },
     "execution_count": 16,
     "metadata": {},
     "output_type": "execute_result"
    }
   ],
   "source": [
    "combi=train.append(test,ignore_index=True)\n",
    "combi.shape"
   ]
  },
  {
   "cell_type": "markdown",
   "id": "e3be7717",
   "metadata": {},
   "source": [
    "###  Removing unwanted text patterns "
   ]
  },
  {
   "cell_type": "code",
   "execution_count": 17,
   "id": "cf7bbbe9",
   "metadata": {},
   "outputs": [],
   "source": [
    "def remove_pattern(input_txt,pattern):\n",
    "    r=re.findall(pattern,input_txt)\n",
    "    for i in r:\n",
    "        input_txt=re.sub(i, '',input_txt)\n",
    "    return input_txt"
   ]
  },
  {
   "cell_type": "markdown",
   "id": "9efb68d7",
   "metadata": {},
   "source": [
    "removing @user as it hardly gives any info\n",
    "removing punctuations,numbers,special characters\n",
    "removing small txts like his,her,all,a,an"
   ]
  },
  {
   "cell_type": "code",
   "execution_count": 18,
   "id": "a05c4a87",
   "metadata": {},
   "outputs": [
    {
     "data": {
      "text/html": [
       "<div>\n",
       "<style scoped>\n",
       "    .dataframe tbody tr th:only-of-type {\n",
       "        vertical-align: middle;\n",
       "    }\n",
       "\n",
       "    .dataframe tbody tr th {\n",
       "        vertical-align: top;\n",
       "    }\n",
       "\n",
       "    .dataframe thead th {\n",
       "        text-align: right;\n",
       "    }\n",
       "</style>\n",
       "<table border=\"1\" class=\"dataframe\">\n",
       "  <thead>\n",
       "    <tr style=\"text-align: right;\">\n",
       "      <th></th>\n",
       "      <th>id</th>\n",
       "      <th>label</th>\n",
       "      <th>tweet</th>\n",
       "      <th>tidy_tweet</th>\n",
       "    </tr>\n",
       "  </thead>\n",
       "  <tbody>\n",
       "    <tr>\n",
       "      <th>0</th>\n",
       "      <td>1</td>\n",
       "      <td>0.0</td>\n",
       "      <td>@user when a father is dysfunctional and is so selfish he drags his kids into his dysfunction.   #run</td>\n",
       "      <td>when a father is dysfunctional and is so selfish he drags his kids into his dysfunction.   #run</td>\n",
       "    </tr>\n",
       "    <tr>\n",
       "      <th>1</th>\n",
       "      <td>2</td>\n",
       "      <td>0.0</td>\n",
       "      <td>@user @user thanks for #lyft credit i can't use cause they don't offer wheelchair vans in pdx.    #disapointed #getthanked</td>\n",
       "      <td>thanks for #lyft credit i can't use cause they don't offer wheelchair vans in pdx.    #disapointed #getthanked</td>\n",
       "    </tr>\n",
       "    <tr>\n",
       "      <th>2</th>\n",
       "      <td>3</td>\n",
       "      <td>0.0</td>\n",
       "      <td>bihday your majesty</td>\n",
       "      <td>bihday your majesty</td>\n",
       "    </tr>\n",
       "    <tr>\n",
       "      <th>3</th>\n",
       "      <td>4</td>\n",
       "      <td>0.0</td>\n",
       "      <td>#model   i love u take with u all the time in urð±!!! ðððð",
       "ð¦ð¦ð¦</td>\n",
       "      <td>#model   i love u take with u all the time in urð±!!! ðððð",
       "ð¦ð¦ð¦</td>\n",
       "    </tr>\n",
       "    <tr>\n",
       "      <th>4</th>\n",
       "      <td>5</td>\n",
       "      <td>0.0</td>\n",
       "      <td>factsguide: society now    #motivation</td>\n",
       "      <td>factsguide: society now    #motivation</td>\n",
       "    </tr>\n",
       "  </tbody>\n",
       "</table>\n",
       "</div>"
      ],
      "text/plain": [
       "   id  label  \\\n",
       "0   1    0.0   \n",
       "1   2    0.0   \n",
       "2   3    0.0   \n",
       "3   4    0.0   \n",
       "4   5    0.0   \n",
       "\n",
       "                                                                                                                        tweet  \\\n",
       "0                       @user when a father is dysfunctional and is so selfish he drags his kids into his dysfunction.   #run   \n",
       "1  @user @user thanks for #lyft credit i can't use cause they don't offer wheelchair vans in pdx.    #disapointed #getthanked   \n",
       "2                                                                                                         bihday your majesty   \n",
       "3                                      #model   i love u take with u all the time in urð±!!! ðððð\n",
       "ð¦ð¦ð¦     \n",
       "4                                                                                      factsguide: society now    #motivation   \n",
       "\n",
       "                                                                                                         tidy_tweet  \n",
       "0                   when a father is dysfunctional and is so selfish he drags his kids into his dysfunction.   #run  \n",
       "1    thanks for #lyft credit i can't use cause they don't offer wheelchair vans in pdx.    #disapointed #getthanked  \n",
       "2                                                                                               bihday your majesty  \n",
       "3                            #model   i love u take with u all the time in urð±!!! ðððð\n",
       "ð¦ð¦ð¦    \n",
       "4                                                                            factsguide: society now    #motivation  "
      ]
     },
     "execution_count": 18,
     "metadata": {},
     "output_type": "execute_result"
    }
   ],
   "source": [
    "combi['tidy_tweet']=np.vectorize(remove_pattern)(combi['tweet'],\"@[\\w]*\")\n",
    "combi.head()"
   ]
  },
  {
   "cell_type": "code",
   "execution_count": 20,
   "id": "4c47b446",
   "metadata": {},
   "outputs": [
    {
     "data": {
      "text/html": [
       "<div>\n",
       "<style scoped>\n",
       "    .dataframe tbody tr th:only-of-type {\n",
       "        vertical-align: middle;\n",
       "    }\n",
       "\n",
       "    .dataframe tbody tr th {\n",
       "        vertical-align: top;\n",
       "    }\n",
       "\n",
       "    .dataframe thead th {\n",
       "        text-align: right;\n",
       "    }\n",
       "</style>\n",
       "<table border=\"1\" class=\"dataframe\">\n",
       "  <thead>\n",
       "    <tr style=\"text-align: right;\">\n",
       "      <th></th>\n",
       "      <th>id</th>\n",
       "      <th>label</th>\n",
       "      <th>tweet</th>\n",
       "      <th>tidy_tweet</th>\n",
       "    </tr>\n",
       "  </thead>\n",
       "  <tbody>\n",
       "    <tr>\n",
       "      <th>0</th>\n",
       "      <td>1</td>\n",
       "      <td>0.0</td>\n",
       "      <td>@user when a father is dysfunctional and is so selfish he drags his kids into his dysfunction.   #run</td>\n",
       "      <td>when a father is dysfunctional and is so selfish he drags his kids into his dysfunction    #run</td>\n",
       "    </tr>\n",
       "    <tr>\n",
       "      <th>1</th>\n",
       "      <td>2</td>\n",
       "      <td>0.0</td>\n",
       "      <td>@user @user thanks for #lyft credit i can't use cause they don't offer wheelchair vans in pdx.    #disapointed #getthanked</td>\n",
       "      <td>thanks for #lyft credit i can t use cause they don t offer wheelchair vans in pdx     #disapointed #getthanked</td>\n",
       "    </tr>\n",
       "    <tr>\n",
       "      <th>2</th>\n",
       "      <td>3</td>\n",
       "      <td>0.0</td>\n",
       "      <td>bihday your majesty</td>\n",
       "      <td>bihday your majesty</td>\n",
       "    </tr>\n",
       "    <tr>\n",
       "      <th>3</th>\n",
       "      <td>4</td>\n",
       "      <td>0.0</td>\n",
       "      <td>#model   i love u take with u all the time in urð±!!! ðððð",
       "ð¦ð¦ð¦</td>\n",
       "      <td>#model   i love u take with u all the time in ur</td>\n",
       "    </tr>\n",
       "    <tr>\n",
       "      <th>4</th>\n",
       "      <td>5</td>\n",
       "      <td>0.0</td>\n",
       "      <td>factsguide: society now    #motivation</td>\n",
       "      <td>factsguide  society now    #motivation</td>\n",
       "    </tr>\n",
       "  </tbody>\n",
       "</table>\n",
       "</div>"
      ],
      "text/plain": [
       "   id  label  \\\n",
       "0   1    0.0   \n",
       "1   2    0.0   \n",
       "2   3    0.0   \n",
       "3   4    0.0   \n",
       "4   5    0.0   \n",
       "\n",
       "                                                                                                                        tweet  \\\n",
       "0                       @user when a father is dysfunctional and is so selfish he drags his kids into his dysfunction.   #run   \n",
       "1  @user @user thanks for #lyft credit i can't use cause they don't offer wheelchair vans in pdx.    #disapointed #getthanked   \n",
       "2                                                                                                         bihday your majesty   \n",
       "3                                      #model   i love u take with u all the time in urð±!!! ðððð\n",
       "ð¦ð¦ð¦     \n",
       "4                                                                                      factsguide: society now    #motivation   \n",
       "\n",
       "                                                                                                         tidy_tweet  \n",
       "0                   when a father is dysfunctional and is so selfish he drags his kids into his dysfunction    #run  \n",
       "1    thanks for #lyft credit i can t use cause they don t offer wheelchair vans in pdx     #disapointed #getthanked  \n",
       "2                                                                                               bihday your majesty  \n",
       "3                            #model   i love u take with u all the time in ur                                        \n",
       "4                                                                            factsguide  society now    #motivation  "
      ]
     },
     "execution_count": 20,
     "metadata": {},
     "output_type": "execute_result"
    }
   ],
   "source": [
    "import warnings\n",
    "\n",
    "# Suppress future warning\n",
    "warnings.simplefilter(action='ignore', category=FutureWarning)\n",
    "\n",
    "combi['tidy_tweet'] = combi['tidy_tweet'].str.replace(\"[^a-zA-Z#]\",\" \")\n",
    "\n",
    "# Now your code will run without displaying the warning\n",
    "combi.head()\n",
    "\n"
   ]
  },
  {
   "cell_type": "code",
   "execution_count": 21,
   "id": "5bc76837",
   "metadata": {},
   "outputs": [
    {
     "data": {
      "text/html": [
       "<div>\n",
       "<style scoped>\n",
       "    .dataframe tbody tr th:only-of-type {\n",
       "        vertical-align: middle;\n",
       "    }\n",
       "\n",
       "    .dataframe tbody tr th {\n",
       "        vertical-align: top;\n",
       "    }\n",
       "\n",
       "    .dataframe thead th {\n",
       "        text-align: right;\n",
       "    }\n",
       "</style>\n",
       "<table border=\"1\" class=\"dataframe\">\n",
       "  <thead>\n",
       "    <tr style=\"text-align: right;\">\n",
       "      <th></th>\n",
       "      <th>id</th>\n",
       "      <th>label</th>\n",
       "      <th>tweet</th>\n",
       "      <th>tidy_tweet</th>\n",
       "    </tr>\n",
       "  </thead>\n",
       "  <tbody>\n",
       "    <tr>\n",
       "      <th>0</th>\n",
       "      <td>1</td>\n",
       "      <td>0.0</td>\n",
       "      <td>@user when a father is dysfunctional and is so selfish he drags his kids into his dysfunction.   #run</td>\n",
       "      <td>when father dysfunctional selfish drags kids into dysfunction #run</td>\n",
       "    </tr>\n",
       "    <tr>\n",
       "      <th>1</th>\n",
       "      <td>2</td>\n",
       "      <td>0.0</td>\n",
       "      <td>@user @user thanks for #lyft credit i can't use cause they don't offer wheelchair vans in pdx.    #disapointed #getthanked</td>\n",
       "      <td>thanks #lyft credit cause they offer wheelchair vans #disapointed #getthanked</td>\n",
       "    </tr>\n",
       "    <tr>\n",
       "      <th>2</th>\n",
       "      <td>3</td>\n",
       "      <td>0.0</td>\n",
       "      <td>bihday your majesty</td>\n",
       "      <td>bihday your majesty</td>\n",
       "    </tr>\n",
       "    <tr>\n",
       "      <th>3</th>\n",
       "      <td>4</td>\n",
       "      <td>0.0</td>\n",
       "      <td>#model   i love u take with u all the time in urð±!!! ðððð",
       "ð¦ð¦ð¦</td>\n",
       "      <td>#model love take with time</td>\n",
       "    </tr>\n",
       "    <tr>\n",
       "      <th>4</th>\n",
       "      <td>5</td>\n",
       "      <td>0.0</td>\n",
       "      <td>factsguide: society now    #motivation</td>\n",
       "      <td>factsguide society #motivation</td>\n",
       "    </tr>\n",
       "  </tbody>\n",
       "</table>\n",
       "</div>"
      ],
      "text/plain": [
       "   id  label  \\\n",
       "0   1    0.0   \n",
       "1   2    0.0   \n",
       "2   3    0.0   \n",
       "3   4    0.0   \n",
       "4   5    0.0   \n",
       "\n",
       "                                                                                                                        tweet  \\\n",
       "0                       @user when a father is dysfunctional and is so selfish he drags his kids into his dysfunction.   #run   \n",
       "1  @user @user thanks for #lyft credit i can't use cause they don't offer wheelchair vans in pdx.    #disapointed #getthanked   \n",
       "2                                                                                                         bihday your majesty   \n",
       "3                                      #model   i love u take with u all the time in urð±!!! ðððð\n",
       "ð¦ð¦ð¦     \n",
       "4                                                                                      factsguide: society now    #motivation   \n",
       "\n",
       "                                                                      tidy_tweet  \n",
       "0             when father dysfunctional selfish drags kids into dysfunction #run  \n",
       "1  thanks #lyft credit cause they offer wheelchair vans #disapointed #getthanked  \n",
       "2                                                            bihday your majesty  \n",
       "3                                                     #model love take with time  \n",
       "4                                                 factsguide society #motivation  "
      ]
     },
     "execution_count": 21,
     "metadata": {},
     "output_type": "execute_result"
    }
   ],
   "source": [
    "combi['tidy_tweet']= combi['tidy_tweet'].apply(lambda x: ' '.join([w for w in x.split() if len(w)>3]))\n",
    "combi.head()"
   ]
  },
  {
   "cell_type": "markdown",
   "id": "b27e9228",
   "metadata": {},
   "source": [
    "### Text Normalization"
   ]
  },
  {
   "cell_type": "code",
   "execution_count": 22,
   "id": "f60a67fd",
   "metadata": {},
   "outputs": [
    {
     "data": {
      "text/plain": [
       "0                [when, father, dysfunctional, selfish, drags, kids, into, dysfunction, #run]\n",
       "1    [thanks, #lyft, credit, cause, they, offer, wheelchair, vans, #disapointed, #getthanked]\n",
       "2                                                                     [bihday, your, majesty]\n",
       "3                                                            [#model, love, take, with, time]\n",
       "4                                                          [factsguide, society, #motivation]\n",
       "Name: tidy_tweet, dtype: object"
      ]
     },
     "execution_count": 22,
     "metadata": {},
     "output_type": "execute_result"
    }
   ],
   "source": [
    "tokenized_tweet= combi['tidy_tweet'].apply(lambda x: x.split()) \n",
    "tokenized_tweet.head()"
   ]
  },
  {
   "cell_type": "code",
   "execution_count": 23,
   "id": "187cb1ca",
   "metadata": {},
   "outputs": [],
   "source": [
    "from nltk.stem.porter import *\n",
    "stemmer = PorterStemmer()\n",
    "tokenized_tweet = tokenized_tweet.apply(lambda x: [stemmer.stem(i) for i in x])\n"
   ]
  },
  {
   "cell_type": "code",
   "execution_count": 24,
   "id": "8c0909e5",
   "metadata": {},
   "outputs": [],
   "source": [
    "for i in range(len(tokenized_tweet)):\n",
    "    tokenized_tweet[i]= ' '.join(tokenized_tweet[i])\n",
    "combi['tidy_tweet'] = tokenized_tweet"
   ]
  },
  {
   "cell_type": "markdown",
   "id": "28e5237f",
   "metadata": {},
   "source": [
    "### Visualization"
   ]
  },
  {
   "cell_type": "code",
   "execution_count": 25,
   "id": "ddb4f4a6",
   "metadata": {},
   "outputs": [
    {
     "data": {
      "text/plain": [
       "0                                             when father dysfunct selfish drag kid into dysfunct #run\n",
       "1                               thank #lyft credit caus they offer wheelchair van #disapoint #getthank\n",
       "2                                                                                  bihday your majesti\n",
       "3                                                                           #model love take with time\n",
       "4                                                                             factsguid societi #motiv\n",
       "                                                     ...                                              \n",
       "49154               thought factori left right polaris #trump #uselect #leadership #polit #brexit #blm\n",
       "49155                       feel like mermaid #hairflip #neverreadi #formal #wed #gown #dress #mermaid\n",
       "49156    #hillari #campaign today #ohio use word like asset liabil never onc #clinton thee word #radic\n",
       "49157                         happi work confer right mindset lead cultur develop organ #work #mindset\n",
       "49158                                                song glad free download #shoegaz #newmus #newsong\n",
       "Name: tidy_tweet, Length: 49159, dtype: object"
      ]
     },
     "execution_count": 25,
     "metadata": {},
     "output_type": "execute_result"
    }
   ],
   "source": [
    "combi['tidy_tweet']"
   ]
  },
  {
   "cell_type": "code",
   "execution_count": 26,
   "id": "75508c0f",
   "metadata": {},
   "outputs": [],
   "source": [
    "import re\n",
    "\n",
    "# Function to collect hashtags\n",
    "def hashtag_extract(x):\n",
    "    hashtags = []\n",
    "    for i in x:\n",
    "        ht = re.findall(r\"#(\\w+)\", i)\n",
    "        hashtags.extend(ht)\n",
    "    return hashtags\n",
    "\n",
    "# Extracting hashtags from non-racist/sexist tweets\n",
    "HT_regular = hashtag_extract(combi['tidy_tweet'][combi['label'] == 0])\n",
    "\n",
    "# Extracting hashtags from racist/sexist tweets\n",
    "HT_negative = hashtag_extract(combi['tidy_tweet'][combi['label'] == 1])\n",
    "\n",
    "# No need for sum(), just extend the lists directly\n",
    "HT_regular_final = []\n",
    "HT_regular_final.extend(HT_regular)\n",
    "\n",
    "HT_negative_final = []\n",
    "HT_negative_final.extend(HT_negative)\n",
    "\n"
   ]
  },
  {
   "cell_type": "code",
   "execution_count": 27,
   "id": "41b0fb51",
   "metadata": {},
   "outputs": [
    {
     "data": {
      "image/png": "[encoded data removed]",
      "text/plain": [
       "<Figure size 1152x360 with 1 Axes>"
      ]
     },
     "metadata": {
      "needs_background": "light"
     },
     "output_type": "display_data"
    }
   ],
   "source": [
    "a = nltk.FreqDist(HT_regular_final) \n",
    "d = pd.DataFrame({'Hashtag': list(a.keys()),'Count': list(a.values())})\n",
    "\n",
    "#selecting top 20 most frequent hashtags\n",
    "\n",
    "d = d.nlargest (columns=\"Count\", n = 20 ) \n",
    "plt.figure(figsize=(16,5)) \n",
    "ax =sns.barplot(data=d, x= \"Hashtag\", y =\"Count\") \n",
    "ax.set(ylabel = 'Count')\n",
    "\n",
    "plt.show()"
   ]
  },
  {
   "cell_type": "code",
   "execution_count": 28,
   "id": "4626cdec",
   "metadata": {},
   "outputs": [
    {
     "data": {
      "image/png": "[encoded data removed]",
      "text/plain": [
       "<Figure size 1152x360 with 1 Axes>"
      ]
     },
     "metadata": {
      "needs_background": "light"
     },
     "output_type": "display_data"
    }
   ],
   "source": [
    "b = nltk.FreqDist(HT_negative_final) \n",
    "e = pd.DataFrame({'Hashtag': list(b.keys()),'Count': list(b.values())})\n",
    "\n",
    "#selecting top 20 most frequent hashtags\n",
    "\n",
    "e = e.nlargest (columns=\"Count\", n = 20 ) \n",
    "plt.figure(figsize=(16,5)) \n",
    "ax =sns.barplot(data=e, x= \"Hashtag\", y =\"Count\") \n",
    "ax.set(ylabel = 'Count')\n",
    "\n",
    "plt.show()"
   ]
  },
  {
   "cell_type": "markdown",
   "id": "87e4349f",
   "metadata": {},
   "source": [
    "### Bag of words"
   ]
  },
  {
   "cell_type": "code",
   "execution_count": 29,
   "id": "8aad0fa0",
   "metadata": {},
   "outputs": [],
   "source": [
    "from sklearn.feature_extraction.text import TfidfVectorizer,CountVectorizer \n",
    "import gensim"
   ]
  },
  {
   "cell_type": "code",
   "execution_count": 30,
   "id": "a41f8d4b",
   "metadata": {},
   "outputs": [
    {
     "data": {
      "text/plain": [
       "(49159, 1000)"
      ]
     },
     "execution_count": 30,
     "metadata": {},
     "output_type": "execute_result"
    }
   ],
   "source": [
    "bow_vectorizer = CountVectorizer(max_df=0.90, min_df=2, max_features=1000,stop_words='english') \n",
    "bow = bow_vectorizer.fit_transform(combi['tidy_tweet']) \n",
    "bow.shape"
   ]
  },
  {
   "cell_type": "markdown",
   "id": "db964ef4",
   "metadata": {},
   "source": [
    "### TF-IDF "
   ]
  },
  {
   "cell_type": "code",
   "execution_count": 31,
   "id": "d298421a",
   "metadata": {},
   "outputs": [
    {
     "data": {
      "text/plain": [
       "(49159, 1000)"
      ]
     },
     "execution_count": 31,
     "metadata": {},
     "output_type": "execute_result"
    }
   ],
   "source": [
    "tfidf_vectorizer = CountVectorizer(max_df=0.90, min_df=2, max_features=1000,stop_words='english') \n",
    "tfidf = tfidf_vectorizer.fit_transform(combi['tidy_tweet']) \n",
    "tfidf.shape"
   ]
  },
  {
   "cell_type": "markdown",
   "id": "13a0d542",
   "metadata": {},
   "source": [
    "### WORD2VEC"
   ]
  },
  {
   "cell_type": "code",
   "execution_count": 33,
   "id": "5d538673",
   "metadata": {},
   "outputs": [
    {
     "data": {
      "text/plain": [
       "(6510384, 7536020)"
      ]
     },
     "execution_count": 33,
     "metadata": {},
     "output_type": "execute_result"
    }
   ],
   "source": [
    "tokenized_tweet = combi['tidy_tweet'].apply(lambda x: x.split()) \n",
    "\n",
    "model_w2v = gensim.models.Word2Vec(tokenized_tweet, vector_size=200, window=5, min_count=2, sg=1, hs=0, negative=10, workers=2, seed=34)\n",
    "\n",
    "model_w2v.train(tokenized_tweet, total_examples= len(combi['tidy_tweet']), epochs=20)"
   ]
  },
  {
   "cell_type": "code",
   "execution_count": 34,
   "id": "4a5eec7c",
   "metadata": {},
   "outputs": [
    {
     "data": {
      "text/plain": [
       "array([ 2.61601985e-01,  7.98656121e-02,  6.81609750e-01, -7.13787973e-02,\n",
       "       -1.17202356e-01, -1.20132431e-01, -2.44210035e-01,  4.65233289e-02,\n",
       "       -7.23089725e-02, -1.65748149e-01,  1.08154029e-01, -1.11054905e-01,\n",
       "       -6.85428560e-01,  7.19831944e-01, -3.51506293e-01, -3.81578863e-01,\n",
       "        6.46749437e-01,  5.49175382e-01, -1.58096422e-02, -1.12471180e-02,\n",
       "       -1.39857396e-01,  1.72382355e-01, -2.10988596e-01, -1.01240918e-01,\n",
       "       -6.02604032e-01,  1.29102707e-01, -9.75345552e-01, -2.28971660e-01,\n",
       "        4.69364047e-01, -9.88000259e-02,  3.97931904e-01, -4.86491203e-01,\n",
       "       -2.98489213e-01, -1.40755668e-01, -5.59087396e-01, -3.79500270e-01,\n",
       "       -1.51742727e-01, -3.41244936e-01,  3.71541023e-01, -4.32383567e-01,\n",
       "       -7.33620703e-01, -2.47875318e-01, -2.83931881e-01,  3.50303531e-01,\n",
       "       -3.44085284e-02,  2.74026066e-01,  4.49936002e-01,  5.07665910e-02,\n",
       "       -2.85174698e-01, -1.52460217e-01,  3.59871447e-01, -4.84959245e-01,\n",
       "        4.41364765e-01,  3.09744745e-01,  2.89407130e-02,  3.41206372e-01,\n",
       "       -1.54800579e-01, -7.28920996e-01, -1.17740132e-01,  3.22665386e-02,\n",
       "       -3.73630911e-01,  4.68760908e-01, -1.25466213e-01, -5.32365620e-01,\n",
       "       -3.61884862e-01,  5.01991987e-01,  2.53411680e-01,  2.98625857e-01,\n",
       "        4.04181510e-01, -6.34607673e-02,  1.00289367e-01, -3.00141782e-01,\n",
       "       -3.83127108e-02, -4.97760135e-04,  2.17886165e-01, -4.66183692e-01,\n",
       "        9.99620855e-02, -1.45769089e-01,  3.77606958e-01, -2.85743982e-01,\n",
       "        1.15714550e-01, -1.32957399e-01, -5.96310616e-01,  7.14301318e-02,\n",
       "        2.62769282e-01,  3.46313864e-01,  7.59432837e-02,  2.11662557e-02,\n",
       "       -3.07597578e-01,  1.67410553e-01, -8.90520811e-02, -1.40381441e-01,\n",
       "        2.42645949e-01, -7.84763470e-02, -4.94627096e-02,  4.85735118e-01,\n",
       "        9.37592313e-02,  2.78701246e-01,  5.46453476e-01,  2.40825474e-01,\n",
       "        4.41843510e-01,  3.37816030e-01, -7.55554497e-01,  6.33066773e-01,\n",
       "       -2.98521608e-01,  2.61091530e-01, -3.61498185e-02, -1.40957475e-01,\n",
       "       -2.81692207e-01, -5.53760938e-02,  1.17212191e-01, -3.47088158e-01,\n",
       "        2.32910410e-01, -3.60741466e-01, -2.24690348e-01,  9.56645701e-03,\n",
       "        3.50769341e-01, -9.33357999e-02,  2.05205247e-01, -4.21767205e-01,\n",
       "       -2.66732797e-02,  7.37287045e-01, -1.45973712e-01, -6.70837760e-02,\n",
       "       -1.48036286e-01,  1.90649167e-01, -4.28673923e-02, -6.32668287e-02,\n",
       "       -1.87430382e-01, -2.47755393e-01,  8.39001462e-02, -1.31164417e-01,\n",
       "       -1.23841040e-01, -4.06782180e-01, -1.91931486e-01,  1.10416651e-01,\n",
       "       -1.92607269e-01, -3.66494000e-01,  5.03399745e-02, -4.51991260e-01,\n",
       "        3.77066612e-01,  5.58500469e-01, -3.02479297e-01,  5.53523183e-01,\n",
       "        1.13961212e-01,  3.72428656e-01,  1.95779562e-01, -1.79382086e-01,\n",
       "        1.28557160e-01, -1.58917904e-01, -2.32812464e-01, -3.24502826e-01,\n",
       "       -2.36312106e-01, -3.90783399e-01, -2.66919196e-01, -4.13979769e-01,\n",
       "       -8.87091398e-01,  5.26196718e-01,  3.22531879e-01, -2.69897074e-01,\n",
       "       -3.22171807e-01,  2.04697981e-01,  1.11426599e-01,  2.58410722e-01,\n",
       "        5.94722450e-01,  6.64377585e-03, -2.27806658e-01, -1.08602062e-01,\n",
       "        2.06824392e-01, -3.20011228e-01, -1.08788826e-01, -6.00727983e-02,\n",
       "        6.52523413e-02, -5.97022653e-01, -6.47939444e-01, -1.78050175e-01,\n",
       "        6.41684949e-01,  1.06087178e-01, -3.23991537e-01,  7.67990053e-02,\n",
       "       -1.46336472e-02, -3.31662856e-02, -6.75554499e-02, -8.76328200e-02,\n",
       "        2.41610222e-02,  4.37186569e-01, -5.13145924e-01,  2.95366883e-01,\n",
       "        4.09532219e-01,  3.56886774e-01, -4.66430783e-02, -1.04551427e-01,\n",
       "       -5.32390065e-02, -4.24222229e-03,  5.11823833e-01, -2.50597328e-01,\n",
       "        1.43195137e-01, -5.50023794e-01, -5.21558702e-01,  1.37379646e-01],\n",
       "      dtype=float32)"
      ]
     },
     "execution_count": 34,
     "metadata": {},
     "output_type": "execute_result"
    }
   ],
   "source": [
    "model_w2v.wv.get_vector('dinner')\n"
   ]
  },
  {
   "cell_type": "code",
   "execution_count": 35,
   "id": "1860c88c",
   "metadata": {},
   "outputs": [
    {
     "data": {
      "text/plain": [
       "array([ 9.29959491e-02,  2.24756766e-02,  3.07096720e-01, -2.51857460e-01,\n",
       "       -2.56559283e-01, -1.54081389e-01, -1.11298524e-01, -4.45128262e-01,\n",
       "        1.21427655e+00, -9.69261646e-01,  4.02287215e-01, -3.55474383e-01,\n",
       "       -2.35883832e-01,  2.27651283e-01, -4.67389643e-01, -1.97763070e-01,\n",
       "       -5.76174967e-02, -3.03707533e-02, -3.38991806e-02, -8.64113033e-01,\n",
       "        2.34053403e-01, -7.92411342e-02, -5.76093376e-01, -5.36868036e-01,\n",
       "       -1.63234994e-01, -2.67603118e-02, -1.01787448e+00,  6.93445981e-01,\n",
       "        3.46592511e-04, -3.95114534e-02,  4.29781787e-02, -5.94524503e-01,\n",
       "       -6.02692226e-03,  1.37290880e-01, -3.84415835e-01, -3.53627675e-03,\n",
       "       -3.25990379e-01, -9.79746226e-03,  3.91922027e-01, -6.06965184e-01,\n",
       "        1.76312685e-01, -4.40402359e-01,  3.65328282e-01, -1.43880084e-01,\n",
       "       -1.23481941e+00,  2.07305074e-01, -2.04684407e-01, -2.76108742e-01,\n",
       "        2.63978578e-02, -4.19226676e-01,  5.62637895e-02, -2.62105763e-01,\n",
       "       -1.80539295e-01, -2.01903179e-01,  3.14804971e-01,  5.01933157e-01,\n",
       "       -3.59166294e-01, -5.85985780e-01,  7.02427745e-01, -1.25962749e-01,\n",
       "       -1.20601701e-02,  6.61982074e-02, -3.61826122e-01,  3.51594895e-01,\n",
       "       -5.53297997e-02, -1.46817759e-01, -5.42725660e-02,  2.83232957e-01,\n",
       "       -5.39366961e-01, -5.80654144e-01,  2.02559263e-01,  1.89603359e-01,\n",
       "        7.31860027e-02, -3.52053940e-01, -1.30217254e-01, -1.89999327e-01,\n",
       "       -6.93665445e-01, -7.37300292e-02, -1.01512897e+00, -3.51401538e-01,\n",
       "       -1.06104556e-02,  1.15131164e+00,  3.33346158e-01,  5.09468257e-01,\n",
       "       -3.67792338e-01,  6.00039482e-01, -1.14155233e+00,  1.86673835e-01,\n",
       "       -4.34972972e-01, -3.92769396e-01, -2.83945888e-01,  5.48737347e-01,\n",
       "        3.08876842e-01, -2.09795460e-01, -8.09032142e-01,  9.23410431e-02,\n",
       "        6.40188530e-02, -6.74776375e-01,  2.42336467e-01, -8.25011544e-03,\n",
       "        2.34732687e-01, -1.03304088e+00,  2.99363494e-01,  3.73076051e-01,\n",
       "        6.41322792e-01,  1.39300716e+00, -3.76965284e-01, -7.38368544e-05,\n",
       "        5.39974272e-02,  2.11783871e-01,  1.78320080e-01, -5.36082089e-01,\n",
       "        8.85796368e-01, -2.50820458e-01, -2.70030439e-01, -7.44592905e-01,\n",
       "        3.75994474e-01,  1.49916578e-02,  3.45728785e-01,  1.03794739e-01,\n",
       "        4.28651333e-01,  3.53737980e-01, -9.47292209e-01, -3.26080024e-01,\n",
       "        3.25691819e-01, -2.19656676e-01,  4.64575961e-02,  6.17494941e-01,\n",
       "       -5.11070073e-01, -9.67310250e-01, -1.21304445e-01, -8.92826095e-02,\n",
       "        2.37078458e-01,  2.44130850e-01, -2.23070368e-01,  3.09194803e-01,\n",
       "        1.31888362e-02,  7.59310601e-03,  4.97324884e-01,  4.61760372e-01,\n",
       "       -3.17576975e-01,  6.42789155e-02, -5.65468054e-03,  2.33156294e-01,\n",
       "       -9.24721062e-02,  1.51661813e-01,  7.03892231e-01, -9.23821479e-02,\n",
       "       -2.95346916e-01,  4.32319671e-01, -5.73574185e-01, -3.01215380e-01,\n",
       "        1.79657146e-01, -3.94119233e-01, -2.98311383e-01,  5.49211025e-01,\n",
       "        6.79516852e-01, -8.09781551e-01,  7.76187778e-01,  6.05679274e-01,\n",
       "        7.60174543e-02, -2.47987032e-01, -2.76216686e-01,  3.32019687e-01,\n",
       "       -4.45183426e-01, -2.50865817e-01,  2.85752296e-01,  8.97129059e-01,\n",
       "        2.21415639e-01, -4.71147031e-01, -1.18754312e-01, -1.69362165e-02,\n",
       "       -4.83049542e-01,  1.26544848e-01, -3.74940187e-01,  1.09050959e-01,\n",
       "       -3.37023914e-01,  6.19845033e-01, -2.66083717e-01, -2.06711143e-01,\n",
       "       -2.49893770e-01,  3.27374786e-02, -2.33204246e-01, -5.96794069e-01,\n",
       "        2.48540670e-01,  5.77884793e-01, -6.37294233e-01,  2.63937384e-01,\n",
       "        4.46772516e-01,  7.75521934e-01, -4.19378966e-01, -4.70012516e-01,\n",
       "        1.84556004e-03,  1.62581533e-01, -3.47193748e-01,  4.38826010e-02,\n",
       "        1.39174357e-01,  4.56887901e-01,  3.24947760e-03, -2.33403400e-01],\n",
       "      dtype=float32)"
      ]
     },
     "execution_count": 35,
     "metadata": {},
     "output_type": "execute_result"
    }
   ],
   "source": [
    "model_w2v.wv.get_vector('trump')\n"
   ]
  },
  {
   "cell_type": "code",
   "execution_count": 36,
   "id": "413f37f0",
   "metadata": {},
   "outputs": [
    {
     "data": {
      "text/plain": [
       "200"
      ]
     },
     "execution_count": 36,
     "metadata": {},
     "output_type": "execute_result"
    }
   ],
   "source": [
    "len(model_w2v.wv.get_vector('trump'))"
   ]
  },
  {
   "cell_type": "code",
   "execution_count": 37,
   "id": "8ed87ac9",
   "metadata": {},
   "outputs": [],
   "source": [
    "def word_vector(tokens, size, model):\n",
    "    vec = np.zeros(size).reshape((1, size))\n",
    "    count = 0\n",
    "    for word in tokens:\n",
    "        try:\n",
    "            vec += model.wv[word].reshape((1, size))\n",
    "            count += 1\n",
    "        except KeyError:\n",
    "            continue\n",
    "    if count != 0:\n",
    "        vec = vec / count\n",
    "    return vec\n"
   ]
  },
  {
   "cell_type": "code",
   "execution_count": 38,
   "id": "b41f9f3a",
   "metadata": {},
   "outputs": [
    {
     "data": {
      "text/plain": [
       "(49159, 200)"
      ]
     },
     "execution_count": 38,
     "metadata": {},
     "output_type": "execute_result"
    }
   ],
   "source": [
    "wordvec_arrays = np.zeros((len(tokenized_tweet), 200))\n",
    "\n",
    "for i in range(len(tokenized_tweet)):\n",
    "    wordvec_arrays[i, :] = word_vector(tokenized_tweet[i], 200, model_w2v)\n",
    "\n",
    "wordvec_df = pd.DataFrame(wordvec_arrays)\n",
    "wordvec_df.shape\n"
   ]
  },
  {
   "cell_type": "code",
   "execution_count": 39,
   "id": "a74b435a",
   "metadata": {},
   "outputs": [
    {
     "data": {
      "text/plain": [
       "[TaggedDocument(words=['when', 'father', 'dysfunct', 'selfish', 'drag', 'kid', 'into', 'dysfunct', '#run'], tags=['tweet_0']),\n",
       " TaggedDocument(words=['thank', '#lyft', 'credit', 'caus', 'they', 'offer', 'wheelchair', 'van', '#disapoint', '#getthank'], tags=['tweet_1']),\n",
       " TaggedDocument(words=['bihday', 'your', 'majesti'], tags=['tweet_2']),\n",
       " TaggedDocument(words=['#model', 'love', 'take', 'with', 'time'], tags=['tweet_3']),\n",
       " TaggedDocument(words=['factsguid', 'societi', '#motiv'], tags=['tweet_4']),\n",
       " TaggedDocument(words=['huge', 'fare', 'talk', 'befor', 'they', 'leav', 'chao', 'disput', 'when', 'they', 'there', '#allshowandnogo'], tags=['tweet_5'])]"
      ]
     },
     "execution_count": 39,
     "metadata": {},
     "output_type": "execute_result"
    }
   ],
   "source": [
    "from tqdm import tqdm\n",
    "tqdm.pandas(desc=\"progress-bar\")\n",
    "from gensim.models.doc2vec import TaggedDocument\n",
    "\n",
    "def add_label(twt):\n",
    "    output = []\n",
    "    for i, s in zip(twt.index, twt):\n",
    "        output.append(TaggedDocument(words=s, tags=[\"tweet_\" + str(i)]))\n",
    "    return output\n",
    "\n",
    "labeled_tweets = add_label(tokenized_tweet)\n",
    "labeled_tweets[:6]\n"
   ]
  },
  {
   "cell_type": "code",
   "execution_count": 40,
   "id": "2dc5a4dc",
   "metadata": {},
   "outputs": [
    {
     "name": "stderr",
     "output_type": "stream",
     "text": [
      "100%|███████████████████████████████████████████████████████████████████████| 49159/49159 [00:00<00:00, 2460093.19it/s]\n"
     ]
    },
    {
     "data": {
      "text/plain": [
       "(49159, 200)"
      ]
     },
     "execution_count": 40,
     "metadata": {},
     "output_type": "execute_result"
    }
   ],
   "source": [
    "model_d2v = gensim.models.Doc2Vec(dm=1, dm_mean=1,vector_size=200, window=5, negative=7, min_count=5, workers=3, alpha=0.1, seed=23)\n",
    "model_d2v.build_vocab([i for i in tqdm(labeled_tweets)])\n",
    "model_d2v.train(labeled_tweets, total_examples=len(combi['tidy_tweet']), epochs=15)\n",
    "\n",
    "docvec_arrays = np.zeros((len(tokenized_tweet), 200))\n",
    "\n",
    "for i in range(len(combi)):\n",
    "    docvec_arrays[i, :] = model_d2v.docvecs[i].reshape((1, 200))\n",
    "\n",
    "docvec_df = pd.DataFrame(docvec_arrays)\n",
    "docvec_df.shape\n"
   ]
  },
  {
   "cell_type": "markdown",
   "id": "28afaebb",
   "metadata": {},
   "source": [
    "### modeling"
   ]
  },
  {
   "cell_type": "markdown",
   "id": "759130ad",
   "metadata": {},
   "source": [
    "### Logistic regression"
   ]
  },
  {
   "cell_type": "code",
   "execution_count": 41,
   "id": "be46fa28",
   "metadata": {},
   "outputs": [],
   "source": [
    "from sklearn.linear_model import LogisticRegression\n",
    "from sklearn.model_selection import train_test_split\n",
    "from sklearn.metrics import f1_score"
   ]
  },
  {
   "cell_type": "markdown",
   "id": "24a4878d",
   "metadata": {},
   "source": [
    "### on BOW features"
   ]
  },
  {
   "cell_type": "code",
   "execution_count": 42,
   "id": "8a35805c",
   "metadata": {},
   "outputs": [
    {
     "data": {
      "text/plain": [
       "0.5303408146300915"
      ]
     },
     "execution_count": 42,
     "metadata": {},
     "output_type": "execute_result"
    }
   ],
   "source": [
    "train_bow=bow[:31962,:] \n",
    "test_bow=bow [31962:,:]\n",
    "\n",
    "xtrain_bow, xvalid_bow, ytrain, yvalid = train_test_split(train_bow, train['label'], random_state=42, test_size=0.3)\n",
    "\n",
    "\n",
    "lreg = LogisticRegression()\n",
    "\n",
    "#training the model \n",
    "lreg.fit(xtrain_bow, ytrain)\n",
    "\n",
    "prediction = lreg.predict_proba(xvalid_bow)  \n",
    "\n",
    "prediction_int = prediction[:,1] >= 0.3 \n",
    "prediction_int = prediction_int.astype(np.int) \n",
    "f1_score(yvalid, prediction_int) \n",
    "\n"
   ]
  },
  {
   "cell_type": "code",
   "execution_count": 43,
   "id": "1a8ca11a",
   "metadata": {},
   "outputs": [],
   "source": [
    "test_pred=lreg.predict_proba(test_bow)\n",
    "test_pred_int=test_pred[:,1]>=0.3\n",
    "test_pred_int=test_pred_int.astype(np.int)\n",
    "test['label']=test_pred_int\n",
    "submission=test[['id','label']]\n",
    "submission.to_csv('sub_lreg_bow.csv',index=False)\n"
   ]
  },
  {
   "cell_type": "code",
   "execution_count": 45,
   "id": "dd33bc11",
   "metadata": {},
   "outputs": [
    {
     "data": {
      "text/html": [
       "<div>\n",
       "<style scoped>\n",
       "    .dataframe tbody tr th:only-of-type {\n",
       "        vertical-align: middle;\n",
       "    }\n",
       "\n",
       "    .dataframe tbody tr th {\n",
       "        vertical-align: top;\n",
       "    }\n",
       "\n",
       "    .dataframe thead th {\n",
       "        text-align: right;\n",
       "    }\n",
       "</style>\n",
       "<table border=\"1\" class=\"dataframe\">\n",
       "  <thead>\n",
       "    <tr style=\"text-align: right;\">\n",
       "      <th></th>\n",
       "      <th>id</th>\n",
       "      <th>label</th>\n",
       "    </tr>\n",
       "  </thead>\n",
       "  <tbody>\n",
       "    <tr>\n",
       "      <th>0</th>\n",
       "      <td>31963</td>\n",
       "      <td>0</td>\n",
       "    </tr>\n",
       "    <tr>\n",
       "      <th>1</th>\n",
       "      <td>31964</td>\n",
       "      <td>0</td>\n",
       "    </tr>\n",
       "    <tr>\n",
       "      <th>2</th>\n",
       "      <td>31965</td>\n",
       "      <td>0</td>\n",
       "    </tr>\n",
       "    <tr>\n",
       "      <th>3</th>\n",
       "      <td>31966</td>\n",
       "      <td>0</td>\n",
       "    </tr>\n",
       "    <tr>\n",
       "      <th>4</th>\n",
       "      <td>31967</td>\n",
       "      <td>0</td>\n",
       "    </tr>\n",
       "    <tr>\n",
       "      <th>...</th>\n",
       "      <td>...</td>\n",
       "      <td>...</td>\n",
       "    </tr>\n",
       "    <tr>\n",
       "      <th>17192</th>\n",
       "      <td>49155</td>\n",
       "      <td>1</td>\n",
       "    </tr>\n",
       "    <tr>\n",
       "      <th>17193</th>\n",
       "      <td>49156</td>\n",
       "      <td>0</td>\n",
       "    </tr>\n",
       "    <tr>\n",
       "      <th>17194</th>\n",
       "      <td>49157</td>\n",
       "      <td>0</td>\n",
       "    </tr>\n",
       "    <tr>\n",
       "      <th>17195</th>\n",
       "      <td>49158</td>\n",
       "      <td>0</td>\n",
       "    </tr>\n",
       "    <tr>\n",
       "      <th>17196</th>\n",
       "      <td>49159</td>\n",
       "      <td>0</td>\n",
       "    </tr>\n",
       "  </tbody>\n",
       "</table>\n",
       "<p>17197 rows × 2 columns</p>\n",
       "</div>"
      ],
      "text/plain": [
       "          id  label\n",
       "0      31963      0\n",
       "1      31964      0\n",
       "2      31965      0\n",
       "3      31966      0\n",
       "4      31967      0\n",
       "...      ...    ...\n",
       "17192  49155      1\n",
       "17193  49156      0\n",
       "17194  49157      0\n",
       "17195  49158      0\n",
       "17196  49159      0\n",
       "\n",
       "[17197 rows x 2 columns]"
      ]
     },
     "execution_count": 45,
     "metadata": {},
     "output_type": "execute_result"
    }
   ],
   "source": [
    "submission = pd.read_csv('sub_lreg_bow.csv')\n",
    "\n",
    "submission"
   ]
  },
  {
   "cell_type": "markdown",
   "id": "fe25f66d",
   "metadata": {},
   "source": [
    "### on tf-idf features"
   ]
  },
  {
   "cell_type": "code",
   "execution_count": 46,
   "id": "85fe2a7e",
   "metadata": {},
   "outputs": [
    {
     "data": {
      "text/plain": [
       "0.5303408146300915"
      ]
     },
     "execution_count": 46,
     "metadata": {},
     "output_type": "execute_result"
    }
   ],
   "source": [
    "train_tfidf=tfidf[:31962,:] \n",
    "test_tfidf=tfidf [31962:,:]\n",
    "\n",
    "xtrain_tfidf, xvalid_tfidf, ytrain, yvalid = train_test_split(train_tfidf, train['label'], random_state=42, test_size=0.3)\n",
    "\n",
    "\n",
    "lreg = LogisticRegression()\n",
    "\n",
    "#training the model \n",
    "lreg.fit(xtrain_bow, ytrain)\n",
    "\n",
    "prediction = lreg.predict_proba(xvalid_tfidf)  \n",
    "\n",
    "prediction_int = prediction[:,1] >= 0.3 \n",
    "prediction_int = prediction_int.astype(np.int) \n",
    "f1_score(yvalid, prediction_int) \n",
    "\n"
   ]
  },
  {
   "cell_type": "markdown",
   "id": "6d2387f5",
   "metadata": {},
   "source": [
    "### on word2vec features"
   ]
  },
  {
   "cell_type": "code",
   "execution_count": 47,
   "id": "8ff51fde",
   "metadata": {},
   "outputs": [
    {
     "data": {
      "text/plain": [
       "0.6244477172312224"
      ]
     },
     "execution_count": 47,
     "metadata": {},
     "output_type": "execute_result"
    }
   ],
   "source": [
    "train_w2v=wordvec_df.iloc[:31962,:] \n",
    "test_w2v=wordvec_df.iloc[31962:,:]\n",
    "\n",
    "xtrain_w2v, xvalid_w2v, ytrain, yvalid = train_test_split(train_w2v, train['label'], random_state=42, test_size=0.3)\n",
    "\n",
    "\n",
    "lreg = LogisticRegression()\n",
    "\n",
    "#training the model \n",
    "lreg.fit(xtrain_w2v, ytrain)\n",
    "\n",
    "prediction = lreg.predict_proba(xvalid_w2v)  \n",
    "\n",
    "prediction_int = prediction[:,1] >= 0.3 \n",
    "prediction_int = prediction_int.astype(np.int) \n",
    "f1_score(yvalid, prediction_int) "
   ]
  },
  {
   "cell_type": "markdown",
   "id": "ffd684b7",
   "metadata": {},
   "source": [
    "### on doc2vec features"
   ]
  },
  {
   "cell_type": "code",
   "execution_count": 48,
   "id": "5a86bc83",
   "metadata": {},
   "outputs": [
    {
     "data": {
      "text/plain": [
       "0.36062717770034847"
      ]
     },
     "execution_count": 48,
     "metadata": {},
     "output_type": "execute_result"
    }
   ],
   "source": [
    "train_d2v=docvec_df.iloc[:31962,:] \n",
    "test_d2v=docvec_df.iloc[31962:,:]\n",
    "\n",
    "xtrain_d2v, xvalid_d2v, ytrain, yvalid = train_test_split(train_d2v, train['label'], random_state=42, test_size=0.3)\n",
    "\n",
    "\n",
    "lreg = LogisticRegression()\n",
    "\n",
    "#training the model \n",
    "lreg.fit(xtrain_d2v, ytrain)\n",
    "\n",
    "prediction = lreg.predict_proba(xvalid_d2v)  \n",
    "\n",
    "prediction_int = prediction[:,1] >= 0.3 \n",
    "prediction_int = prediction_int.astype(np.int) \n",
    "f1_score(yvalid, prediction_int) "
   ]
  },
  {
   "cell_type": "markdown",
   "id": "a439ae7e",
   "metadata": {},
   "source": [
    "### svm"
   ]
  },
  {
   "cell_type": "code",
   "execution_count": 49,
   "id": "e4c95bcf",
   "metadata": {},
   "outputs": [],
   "source": [
    "from sklearn import svm"
   ]
  },
  {
   "cell_type": "markdown",
   "id": "f6bea75c",
   "metadata": {},
   "source": [
    "### on boc features"
   ]
  },
  {
   "cell_type": "code",
   "execution_count": 50,
   "id": "86611bc1",
   "metadata": {},
   "outputs": [
    {
     "data": {
      "text/plain": [
       "0.5097674418604652"
      ]
     },
     "execution_count": 50,
     "metadata": {},
     "output_type": "execute_result"
    }
   ],
   "source": [
    "svc = svm.SVC(kernel='linear', C = 1,probability=True).fit(xtrain_bow, ytrain)\n",
    "\n",
    "prediction = svc.predict_proba(xvalid_bow)\n",
    "\n",
    "prediction_int = prediction[:,1] >= 0.3\n",
    "\n",
    "prediction_int = prediction_int.astype(np.int)\n",
    "\n",
    "f1_score (yvalid, prediction_int)\n"
   ]
  },
  {
   "cell_type": "code",
   "execution_count": 51,
   "id": "31d664ed",
   "metadata": {},
   "outputs": [],
   "source": [
    "test_pred = svc.predict_proba(test_bow)\n",
    "\n",
    "test_pred_int = test_pred[:,1] >= 0.3\n",
    "\n",
    "test_pred_int=test_pred_int.astype(np .int)\n",
    "\n",
    "test['label'] = test_pred_int\n",
    "\n",
    "submission = test[['id', 'label']]\n",
    "\n",
    "submission.to_csv('sub_svm_bow.csv' , index=False)"
   ]
  },
  {
   "cell_type": "markdown",
   "id": "04affecc",
   "metadata": {},
   "source": [
    "### tfidf"
   ]
  },
  {
   "cell_type": "code",
   "execution_count": 52,
   "id": "53c22719",
   "metadata": {},
   "outputs": [
    {
     "data": {
      "text/plain": [
       "0.5083798882681564"
      ]
     },
     "execution_count": 52,
     "metadata": {},
     "output_type": "execute_result"
    }
   ],
   "source": [
    "svc = svm.SVC(kernel='linear', C = 1,probability=True).fit(xtrain_tfidf, ytrain)\n",
    "\n",
    "prediction = svc.predict_proba(xvalid_tfidf)\n",
    "\n",
    "prediction_int = prediction[:,1] >= 0.3\n",
    "\n",
    "prediction_int = prediction_int.astype(np.int)\n",
    "\n",
    "f1_score (yvalid, prediction_int)\n"
   ]
  },
  {
   "cell_type": "markdown",
   "id": "22a5d046",
   "metadata": {},
   "source": [
    "### word2vec"
   ]
  },
  {
   "cell_type": "code",
   "execution_count": 53,
   "id": "79b9a126",
   "metadata": {},
   "outputs": [
    {
     "data": {
      "text/plain": [
       "0.6204208885424786"
      ]
     },
     "execution_count": 53,
     "metadata": {},
     "output_type": "execute_result"
    }
   ],
   "source": [
    "svc = svm.SVC(kernel='linear', C = 1,probability=True).fit(xtrain_w2v, ytrain)\n",
    "\n",
    "prediction = svc.predict_proba(xvalid_w2v)\n",
    "\n",
    "prediction_int = prediction[:,1] >= 0.3\n",
    "\n",
    "prediction_int = prediction_int.astype(np.int)\n",
    "\n",
    "f1_score (yvalid, prediction_int)\n"
   ]
  },
  {
   "cell_type": "markdown",
   "id": "e1d104b1",
   "metadata": {},
   "source": [
    "### on doc2vec features"
   ]
  },
  {
   "cell_type": "code",
   "execution_count": 54,
   "id": "07593c19",
   "metadata": {},
   "outputs": [
    {
     "data": {
      "text/plain": [
       "0.1927990708478513"
      ]
     },
     "execution_count": 54,
     "metadata": {},
     "output_type": "execute_result"
    }
   ],
   "source": [
    "svc = svm.SVC(kernel='linear', C = 1,probability=True).fit(xtrain_d2v, ytrain)\n",
    "\n",
    "prediction = svc.predict_proba(xvalid_d2v)\n",
    "\n",
    "prediction_int = prediction[:,1] >= 0.3\n",
    "\n",
    "prediction_int = prediction_int.astype(np.int)\n",
    "\n",
    "f1_score (yvalid, prediction_int)\n"
   ]
  },
  {
   "cell_type": "markdown",
   "id": "cd3f91b9",
   "metadata": {},
   "source": [
    "### Random Forest"
   ]
  },
  {
   "cell_type": "code",
   "execution_count": 55,
   "id": "c5caf79e",
   "metadata": {},
   "outputs": [],
   "source": [
    "from sklearn.ensemble import RandomForestClassifier"
   ]
  },
  {
   "cell_type": "markdown",
   "id": "21bb10fa",
   "metadata": {},
   "source": [
    "### on boc features"
   ]
  },
  {
   "cell_type": "code",
   "execution_count": 56,
   "id": "43149d97",
   "metadata": {},
   "outputs": [
    {
     "data": {
      "text/plain": [
       "0.5529225908372828"
      ]
     },
     "execution_count": 56,
     "metadata": {},
     "output_type": "execute_result"
    }
   ],
   "source": [
    "rf=RandomForestClassifier(n_estimators=400, random_state=11).fit(xtrain_bow, ytrain) \n",
    "prediction=rf.predict(xvalid_bow)\n",
    "f1_score(yvalid,prediction)\n",
    "\n"
   ]
  },
  {
   "cell_type": "code",
   "execution_count": 57,
   "id": "2cd7a0bf",
   "metadata": {},
   "outputs": [],
   "source": [
    "test_pred = rf.predict(test_bow)\n",
    "test['label'] = test_pred \n",
    "submission=test[['id', 'label']]\n",
    "submission.to_csv('sub_rf_bow.csv', index=False)"
   ]
  },
  {
   "cell_type": "markdown",
   "id": "302af312",
   "metadata": {},
   "source": [
    "### on tfidf"
   ]
  },
  {
   "cell_type": "code",
   "execution_count": 58,
   "id": "354c7268",
   "metadata": {},
   "outputs": [
    {
     "data": {
      "text/plain": [
       "0.5529225908372828"
      ]
     },
     "execution_count": 58,
     "metadata": {},
     "output_type": "execute_result"
    }
   ],
   "source": [
    "rf=RandomForestClassifier(n_estimators=400, random_state=11).fit(xtrain_tfidf, ytrain) \n",
    "prediction=rf.predict(xvalid_tfidf)\n",
    "f1_score(yvalid,prediction)"
   ]
  },
  {
   "cell_type": "markdown",
   "id": "e91d523f",
   "metadata": {},
   "source": [
    "### on doc2vec"
   ]
  },
  {
   "cell_type": "code",
   "execution_count": 59,
   "id": "3f69f857",
   "metadata": {},
   "outputs": [
    {
     "data": {
      "text/plain": [
       "0.05957446808510638"
      ]
     },
     "execution_count": 59,
     "metadata": {},
     "output_type": "execute_result"
    }
   ],
   "source": [
    "rf=RandomForestClassifier(n_estimators=400, random_state=11).fit(xtrain_d2v, ytrain) \n",
    "prediction=rf.predict(xvalid_d2v)\n",
    "f1_score(yvalid,prediction)"
   ]
  },
  {
   "cell_type": "markdown",
   "id": "a756dc3e",
   "metadata": {},
   "source": [
    "### on word2vec"
   ]
  },
  {
   "cell_type": "code",
   "execution_count": 60,
   "id": "af044601",
   "metadata": {},
   "outputs": [
    {
     "data": {
      "text/plain": [
       "0.511134676564157"
      ]
     },
     "execution_count": 60,
     "metadata": {},
     "output_type": "execute_result"
    }
   ],
   "source": [
    "rf=RandomForestClassifier(n_estimators=400, random_state=11).fit(xtrain_w2v, ytrain) \n",
    "prediction=rf.predict(xvalid_w2v)\n",
    "f1_score(yvalid,prediction)"
   ]
  },
  {
   "cell_type": "markdown",
   "id": "f04264c9",
   "metadata": {},
   "source": [
    "### XG Boost"
   ]
  },
  {
   "cell_type": "code",
   "execution_count": 61,
   "id": "42745cc6",
   "metadata": {},
   "outputs": [
    {
     "name": "stdout",
     "output_type": "stream",
     "text": [
      "Defaulting to user installation because normal site-packages is not writeable\n",
      "Requirement already satisfied: xgboost in c:\\users\\user\\appdata\\roaming\\python\\python39\\site-packages (2.0.3)\n",
      "Requirement already satisfied: scipy in c:\\programdata\\anaconda3\\lib\\site-packages (from xgboost) (1.7.3)\n",
      "Requirement already satisfied: numpy in c:\\programdata\\anaconda3\\lib\\site-packages (from xgboost) (1.21.5)\n",
      "Note: you may need to restart the kernel to use updated packages.\n"
     ]
    }
   ],
   "source": [
    "pip install xgboost"
   ]
  },
  {
   "cell_type": "code",
   "execution_count": 62,
   "id": "1eee9cbe",
   "metadata": {},
   "outputs": [],
   "source": [
    "from xgboost import XGBClassifier"
   ]
  },
  {
   "cell_type": "markdown",
   "id": "10ed752d",
   "metadata": {},
   "source": [
    "### on boc"
   ]
  },
  {
   "cell_type": "code",
   "execution_count": 63,
   "id": "dd1e6ce3",
   "metadata": {},
   "outputs": [
    {
     "data": {
      "text/plain": [
       "0.5268915223336372"
      ]
     },
     "execution_count": 63,
     "metadata": {},
     "output_type": "execute_result"
    }
   ],
   "source": [
    "xgb_model = XGBClassifier(max_depth=6,n_estimators = 1000 ).fit(xtrain_bow, ytrain) \n",
    "prediction = xgb_model.predict(xvalid_bow) \n",
    "f1_score(yvalid, prediction)\n"
   ]
  },
  {
   "cell_type": "code",
   "execution_count": 64,
   "id": "c50c72e4",
   "metadata": {},
   "outputs": [],
   "source": [
    "test_pred = xgb_model.predict(test_bow) \n",
    "test['label'] = test_pred \n",
    "submission=test[['id', 'label']]\n",
    "submission.to_csv('sub_xgb_bow.csv', index=False)"
   ]
  },
  {
   "cell_type": "markdown",
   "id": "d2447aa3",
   "metadata": {},
   "source": [
    "### on tfidf"
   ]
  },
  {
   "cell_type": "code",
   "execution_count": 65,
   "id": "fbe763e9",
   "metadata": {},
   "outputs": [
    {
     "data": {
      "text/plain": [
       "0.5268915223336372"
      ]
     },
     "execution_count": 65,
     "metadata": {},
     "output_type": "execute_result"
    }
   ],
   "source": [
    "xgb_model = XGBClassifier(max_depth=6,n_estimators= 1000 ) .fit(xtrain_tfidf, ytrain) \n",
    "prediction = xgb_model.predict(xvalid_tfidf) \n",
    "f1_score(yvalid, prediction)"
   ]
  },
  {
   "cell_type": "markdown",
   "id": "08340e93",
   "metadata": {},
   "source": [
    "### on doc2vec"
   ]
  },
  {
   "cell_type": "code",
   "execution_count": 66,
   "id": "da200a27",
   "metadata": {},
   "outputs": [
    {
     "data": {
      "text/plain": [
       "0.39055793991416315"
      ]
     },
     "execution_count": 66,
     "metadata": {},
     "output_type": "execute_result"
    }
   ],
   "source": [
    "xgb_model = XGBClassifier(max_depth=6,n_estimators = 1000,nthread=3).fit(xtrain_d2v, ytrain) \n",
    "prediction = xgb_model.predict(xvalid_d2v) \n",
    "f1_score(yvalid, prediction)"
   ]
  },
  {
   "cell_type": "markdown",
   "id": "fc483500",
   "metadata": {},
   "source": [
    "### on word2vec"
   ]
  },
  {
   "cell_type": "code",
   "execution_count": 67,
   "id": "ce9203c4",
   "metadata": {},
   "outputs": [
    {
     "data": {
      "text/plain": [
       "0.6553267681289168"
      ]
     },
     "execution_count": 67,
     "metadata": {},
     "output_type": "execute_result"
    }
   ],
   "source": [
    "xgb_model = XGBClassifier(max_depth=6,n_estimators= 1000,nthread=3).fit(xtrain_w2v, ytrain) \n",
    "prediction = xgb_model.predict(xvalid_w2v) \n",
    "f1_score(yvalid, prediction)"
   ]
  },
  {
   "cell_type": "markdown",
   "id": "03910fab",
   "metadata": {},
   "source": [
    "### fine tuning \n",
    "### word2vec"
   ]
  },
  {
   "cell_type": "code",
   "execution_count": 68,
   "id": "351382d6",
   "metadata": {},
   "outputs": [],
   "source": [
    "import xgboost as xgb"
   ]
  },
  {
   "cell_type": "code",
   "execution_count": 74,
   "id": "c83d7625",
   "metadata": {},
   "outputs": [
    {
     "name": "stdout",
     "output_type": "stream",
     "text": [
      "CV with max_depth=6, min_child_weight=5\n",
      "CV with max_depth=6, min_child_weight=6\n",
      "CV with max_depth=6, min_child_weight=7\n",
      "CV with max_depth=7, min_child_weight=5\n",
      "CV with max_depth=7, min_child_weight=6\n",
      "CV with max_depth=7, min_child_weight=7\n",
      "CV with max_depth=8, min_child_weight=5\n",
      "CV with max_depth=8, min_child_weight=6\n",
      "CV with max_depth=8, min_child_weight=7\n",
      "CV with max_depth=9, min_child_weight=5\n",
      "CV with max_depth=9, min_child_weight=6\n",
      "CV with max_depth=9, min_child_weight=7\n",
      "\tF1 Score () for () rounds\n",
      "\tF1 Score (0.6482704) for 58 rounds\n"
     ]
    }
   ],
   "source": [
    "import warnings\n",
    "\n",
    "# Suppress the specific warning\n",
    "warnings.filterwarnings(\"ignore\", message=\"`feval` is deprecated\", category=UserWarning)\n",
    "\n",
    "# Your code here\n",
    "dtrain=xgb.DMatrix(xtrain_w2v, label=ytrain) \n",
    "dvalid=xgb.DMatrix(xvalid_w2v, label=yvalid)\n",
    "\n",
    "dtest=xgb.DMatrix(test_w2v)\n",
    "\n",
    "# Parameters that we are going to tune\n",
    "\n",
    "params = {\n",
    "\n",
    "'objective': 'binary:logistic',\n",
    "\n",
    "'max_depth': 6,\n",
    "\n",
    "'min_child_weight': 1,\n",
    "\n",
    "'eta':.3,\n",
    "\n",
    "'subsample': 1,\n",
    "\n",
    "'colsample_bytree': 1\n",
    "\n",
    "}\n",
    "\n",
    "\n",
    "def custom_eval(preds, dtrain):\n",
    "\n",
    "    labels=dtrain.get_label().astype(np.int)\n",
    "\n",
    "    preds = (preds >= 0.3).astype(np.int)\n",
    "\n",
    "    return [('f1_score', f1_score(labels, preds))]\n",
    "gridsearch_params = [(max_depth, min_child_weight) for max_depth in range(6,10) for min_child_weight in range(5,8)]\n",
    "\n",
    "max_f1 = 0. \n",
    "\n",
    "best_params = None\n",
    "\n",
    "for max_depth, min_child_weight in gridsearch_params: \n",
    "    print(\"CV with max_depth={}, min_child_weight={}\".format( max_depth, min_child_weight))\n",
    "\n",
    "\n",
    "    params['max_depth'] = max_depth\n",
    "\n",
    "    params['min_child_weight'] = min_child_weight\n",
    "\n",
    "\n",
    "    cv_results = xgb.cv(params,dtrain,feval=custom_eval, num_boost_round=200, maximize=True, seed=16, nfold=5, early_stopping_rounds=10)\n",
    "\n",
    "\n",
    "mean_f1 = cv_results['test-f1_score-mean'].max()\n",
    "\n",
    "boost_rounds=cv_results['test-f1_score-mean'].argmax()\n",
    "\n",
    "print(\"\\tF1 Score () for () rounds\".format(mean_f1, boost_rounds))\n",
    "\n",
    "if mean_f1 > max_f1:\n",
    "\n",
    "    max_f1 = mean_f1\n",
    "\n",
    "    best_params=(max_depth,min_child_weight)\n",
    "\n",
    "print(\"\\tF1 Score ({}) for {} rounds\".format(mean_f1, boost_rounds))\n"
   ]
  },
  {
   "cell_type": "code",
   "execution_count": 75,
   "id": "f55d486a",
   "metadata": {},
   "outputs": [
    {
     "name": "stdout",
     "output_type": "stream",
     "text": [
      "CV with max_depth=6, min_child_weight=5\n",
      "\tF1 Score 0.6484846 for 78 rounds\n",
      "CV with max_depth=6, min_child_weight=6\n",
      "\tF1 Score 0.650957 for 93 rounds\n",
      "CV with max_depth=6, min_child_weight=7\n",
      "\tF1 Score 0.642612 for 80 rounds\n",
      "CV with max_depth=7, min_child_weight=5\n",
      "\tF1 Score 0.6376464000000001 for 71 rounds\n",
      "CV with max_depth=7, min_child_weight=6\n",
      "\tF1 Score 0.6450906 for 67 rounds\n",
      "CV with max_depth=7, min_child_weight=7\n",
      "\tF1 Score 0.650748 for 69 rounds\n",
      "CV with max_depth=8, min_child_weight=5\n",
      "\tF1 Score 0.641045 for 44 rounds\n",
      "CV with max_depth=8, min_child_weight=6\n",
      "\tF1 Score 0.640417 for 54 rounds\n",
      "CV with max_depth=8, min_child_weight=7\n",
      "\tF1 Score 0.6445711999999999 for 51 rounds\n",
      "CV with max_depth=9, min_child_weight=5\n",
      "\tF1 Score 0.6402251999999999 for 45 rounds\n",
      "CV with max_depth=9, min_child_weight=6\n",
      "\tF1 Score 0.6335620000000001 for 52 rounds\n",
      "CV with max_depth=9, min_child_weight=7\n",
      "\tF1 Score 0.6482704 for 58 rounds\n",
      "Best params: 6, 6, F1 Score: 0.650957\n"
     ]
    }
   ],
   "source": [
    "import warnings\n",
    "\n",
    "# Suppress the specific warning\n",
    "warnings.filterwarnings(\"ignore\", message=\"`feval` is deprecated\", category=UserWarning)\n",
    "\n",
    "import xgboost as xgb\n",
    "from sklearn.metrics import f1_score\n",
    "import numpy as np\n",
    "\n",
    "# Convert data into DMatrix format\n",
    "dtrain = xgb.DMatrix(xtrain_w2v, label=ytrain)\n",
    "dvalid = xgb.DMatrix(xvalid_w2v, label=yvalid)\n",
    "dtest = xgb.DMatrix(test_w2v)\n",
    "\n",
    "# Parameters that we are going to tune\n",
    "params = {\n",
    "    'objective': 'binary:logistic',\n",
    "    'max_depth': 6,\n",
    "    'min_child_weight': 1,\n",
    "    'eta': 0.3,\n",
    "    'subsample': 1,\n",
    "    'colsample_bytree': 1\n",
    "}\n",
    "\n",
    "# Custom evaluation function\n",
    "def custom_eval(preds, dtrain):\n",
    "    labels = dtrain.get_label().astype(np.int)\n",
    "    preds = (preds >= 0.3).astype(np.int)  # Adjust threshold as needed\n",
    "    return [('f1_score', f1_score(labels, preds))]\n",
    "\n",
    "# Grid search parameters\n",
    "gridsearch_params = [(max_depth, min_child_weight) for max_depth in range(6, 10) for min_child_weight in range(5, 8)]\n",
    "\n",
    "max_f1 = 0.\n",
    "best_params = None\n",
    "\n",
    "for max_depth, min_child_weight in gridsearch_params:\n",
    "    print(\"CV with max_depth={}, min_child_weight={}\".format(max_depth, min_child_weight))\n",
    "\n",
    "    params['max_depth'] = max_depth\n",
    "    params['min_child_weight'] = min_child_weight\n",
    "\n",
    "    cv_results = xgb.cv(params, dtrain, feval=custom_eval, num_boost_round=200, maximize=True, seed=16, nfold=5, early_stopping_rounds=10)\n",
    "\n",
    "    mean_f1 = cv_results['test-f1_score-mean'].max()\n",
    "    boost_rounds = cv_results['test-f1_score-mean'].idxmax()\n",
    "\n",
    "    print(\"\\tF1 Score {} for {} rounds\".format(mean_f1, boost_rounds))\n",
    "\n",
    "    if mean_f1 > max_f1:\n",
    "        max_f1 = mean_f1\n",
    "        best_params = (max_depth, min_child_weight)\n",
    "\n",
    "print(\"Best params: {}, {}, F1 Score: {}\".format(best_params[0], best_params[1], max_f1))\n"
   ]
  },
  {
   "cell_type": "code",
   "execution_count": 76,
   "id": "74e80535",
   "metadata": {},
   "outputs": [],
   "source": [
    "params['max_depth']=6\n",
    "params['min_child_weight']=6"
   ]
  },
  {
   "cell_type": "code",
   "execution_count": 77,
   "id": "a9517881",
   "metadata": {},
   "outputs": [
    {
     "name": "stdout",
     "output_type": "stream",
     "text": [
      "CV with subsample=0.5, colsample_bytree=0.5\n",
      "\tF1 Score 0.6486956 for 118 rounds\n",
      "CV with subsample=0.5, colsample_bytree=0.6\n",
      "\tF1 Score 0.6444446 for 92 rounds\n",
      "CV with subsample=0.5, colsample_bytree=0.7\n",
      "\tF1 Score 0.6321152000000001 for 69 rounds\n",
      "CV with subsample=0.5, colsample_bytree=0.8\n",
      "\tF1 Score 0.6380072 for 58 rounds\n",
      "CV with subsample=0.5, colsample_bytree=0.9\n",
      "\tF1 Score 0.6622709999999998 for 123 rounds\n",
      "CV with subsample=0.6, colsample_bytree=0.5\n",
      "\tF1 Score 0.6604474 for 91 rounds\n",
      "CV with subsample=0.6, colsample_bytree=0.6\n",
      "\tF1 Score 0.6476393999999999 for 79 rounds\n",
      "CV with subsample=0.6, colsample_bytree=0.7\n",
      "\tF1 Score 0.6406516 for 69 rounds\n",
      "CV with subsample=0.6, colsample_bytree=0.8\n",
      "\tF1 Score 0.6587259999999999 for 107 rounds\n",
      "CV with subsample=0.6, colsample_bytree=0.9\n",
      "\tF1 Score 0.6269861999999999 for 47 rounds\n",
      "CV with subsample=0.7, colsample_bytree=0.5\n",
      "\tF1 Score 0.6584396 for 118 rounds\n",
      "CV with subsample=0.7, colsample_bytree=0.6\n",
      "\tF1 Score 0.6510528 for 103 rounds\n",
      "CV with subsample=0.7, colsample_bytree=0.7\n",
      "\tF1 Score 0.6625864 for 126 rounds\n",
      "CV with subsample=0.7, colsample_bytree=0.8\n",
      "\tF1 Score 0.6369802 for 51 rounds\n",
      "CV with subsample=0.7, colsample_bytree=0.9\n",
      "\tF1 Score 0.6424946 for 55 rounds\n",
      "CV with subsample=0.8, colsample_bytree=0.5\n",
      "\tF1 Score 0.6580142 for 116 rounds\n",
      "CV with subsample=0.8, colsample_bytree=0.6\n",
      "\tF1 Score 0.6570344 for 113 rounds\n",
      "CV with subsample=0.8, colsample_bytree=0.7\n",
      "\tF1 Score 0.6420776 for 78 rounds\n",
      "CV with subsample=0.8, colsample_bytree=0.8\n",
      "\tF1 Score 0.646314 for 87 rounds\n",
      "CV with subsample=0.8, colsample_bytree=0.9\n",
      "\tF1 Score 0.65246 for 79 rounds\n",
      "CV with subsample=0.9, colsample_bytree=0.5\n",
      "\tF1 Score 0.6456296 for 71 rounds\n",
      "CV with subsample=0.9, colsample_bytree=0.6\n",
      "\tF1 Score 0.6332006 for 53 rounds\n",
      "CV with subsample=0.9, colsample_bytree=0.7\n",
      "\tF1 Score 0.6529682 for 96 rounds\n",
      "CV with subsample=0.9, colsample_bytree=0.8\n",
      "\tF1 Score 0.6504994 for 72 rounds\n",
      "CV with subsample=0.9, colsample_bytree=0.9\n",
      "\tF1 Score 0.6436881999999999 for 72 rounds\n",
      "Best params: 0.7, 0.7, F1 Score: 0.6625864\n"
     ]
    }
   ],
   "source": [
    "import warnings\n",
    "\n",
    "# Suppress the specific warnings\n",
    "warnings.filterwarnings(\"ignore\", message=\"`feval` is deprecated\", category=UserWarning)\n",
    "warnings.filterwarnings(\"ignore\", message=\"Parameters: {\", category=UserWarning)\n",
    "\n",
    "params['max_depth']=6\n",
    "params['min_child_weight']=6\n",
    "\n",
    "gridsearch_params = [(subsample,colsample_bytree)\n",
    "\n",
    "for subsample in [i/10. for i in range(5,10)]\n",
    "\n",
    "for colsample_bytree in [i/10. for i in range(5,10)]]\n",
    "\n",
    "max_f1 = 0.\n",
    "\n",
    "best_params = None\n",
    "\n",
    "for subsample, colsample_bytree in gridsearch_params:\n",
    "\n",
    "    print(\"CV with subsample={}, colsample_bytree={}\".format(subsample,colsample_bytree))\n",
    "\n",
    "\n",
    "# Update our parameters\n",
    "\n",
    "    params['colsample_bytree'] = colsample_bytree\n",
    "\n",
    "    params['subsample'] = subsample\n",
    "\n",
    "    cv_results = xgb.cv(params,dtrain,feval=custom_eval,num_boost_round=200,maximize=True,seed=16,nfold=5,early_stopping_rounds=10)\n",
    "    mean_f1 = cv_results['test-f1_score-mean'].max()\n",
    "\n",
    "    boost_rounds = cv_results['test-f1_score-mean'].argmax()\n",
    "\n",
    "    print(\"\\tF1 Score {} for {} rounds\".format(mean_f1, boost_rounds))\n",
    "\n",
    "    if mean_f1 > max_f1:\n",
    "\n",
    "        max_f1=mean_f1\n",
    "\n",
    "        best_params = (subsample, colsample_bytree)\n",
    "\n",
    "print(\"Best params: {}, {}, F1 Score: {}\".format(best_params[0],best_params[1], max_f1))"
   ]
  },
  {
   "cell_type": "code",
   "execution_count": 78,
   "id": "6a9636db",
   "metadata": {},
   "outputs": [],
   "source": [
    "params['subsample']=.7\n",
    "params['colsample_bytree']=.7"
   ]
  },
  {
   "cell_type": "code",
   "execution_count": 79,
   "id": "3c130ac2",
   "metadata": {},
   "outputs": [
    {
     "name": "stdout",
     "output_type": "stream",
     "text": [
      "CV with eta=0.3\n",
      "\tF1 Score 0.6705753999999999 for 185 rounds\n",
      "CV with eta=2\n",
      "\tF1 Score 0.4697618 for 0 rounds\n",
      "CV with eta=1\n",
      "\tF1 Score 0.6259906 for 72 rounds\n",
      "CV with eta=0.05\n",
      "\tF1 Score 0.657706 for 455 rounds\n",
      "CV with eta=0.01\n",
      "\tF1 Score 0.0 for 0 rounds\n",
      "CV with eta=0.005\n",
      "\tF1 Score 0.0 for 0 rounds\n",
      "Best params: 0.3, F1 Score: 0.6705753999999999\n"
     ]
    }
   ],
   "source": [
    "import warnings\n",
    "\n",
    "# Suppress the specific warnings\n",
    "warnings.filterwarnings(\"ignore\", message=\"`feval` is deprecated\", category=UserWarning)\n",
    "warnings.filterwarnings(\"ignore\", message=\"Parameters: {\", category=UserWarning)\n",
    "\n",
    "params['subsample']=.7\n",
    "params['colsample_bytree']=.7\n",
    "\n",
    "max_f1 = 0.\n",
    "\n",
    "best_params = None\n",
    "\n",
    "for eta in [.3, 2, 1, .05, .01, .005]:\n",
    "\n",
    "    print(\"CV with eta={}\".format(eta))\n",
    "\n",
    "# Update ETA\n",
    "\n",
    "    params['eta'] = eta\n",
    "\n",
    "# Run CV\n",
    "\n",
    "    cv_results = xgb.cv(params,dtrain,feval=custom_eval,num_boost_round=1000,maximize=True,seed=16,nfold=5,early_stopping_rounds=20)\n",
    "    mean_f1=cv_results['test-f1_score-mean'].max()\n",
    "\n",
    "    boost_rounds = cv_results['test-f1_score-mean'].argmax()\n",
    "\n",
    "    print(\"\\tF1 Score {} for {} rounds\".format(mean_f1, boost_rounds))\n",
    "\n",
    "    if mean_f1 > max_f1:\n",
    "\n",
    "        max_f1=mean_f1\n",
    "\n",
    "        best_params = eta\n",
    "\n",
    "print(\"Best params: {}, F1 Score: {}\".format(best_params, max_f1))"
   ]
  },
  {
   "cell_type": "code",
   "execution_count": 80,
   "id": "47a90895",
   "metadata": {},
   "outputs": [],
   "source": [
    "params['eta']=.3\n"
   ]
  },
  {
   "cell_type": "code",
   "execution_count": null,
   "id": "b1af3f29",
   "metadata": {},
   "outputs": [],
   "source": []
  },
  {
   "cell_type": "code",
   "execution_count": 81,
   "id": "074fc3f4",
   "metadata": {},
   "outputs": [
    {
     "name": "stdout",
     "output_type": "stream",
     "text": [
      "[0]\tvalidation-logloss:0.24119\tvalidation-f1_score:0.00000\n",
      "[1]\tvalidation-logloss:0.21401\tvalidation-f1_score:0.18397\n",
      "[2]\tvalidation-logloss:0.19365\tvalidation-f1_score:0.31311\n",
      "[3]\tvalidation-logloss:0.18013\tvalidation-f1_score:0.36659\n",
      "[4]\tvalidation-logloss:0.17051\tvalidation-f1_score:0.40225\n",
      "[5]\tvalidation-logloss:0.16286\tvalidation-f1_score:0.43090\n",
      "[6]\tvalidation-logloss:0.15739\tvalidation-f1_score:0.45376\n",
      "[7]\tvalidation-logloss:0.15244\tvalidation-f1_score:0.47071\n",
      "[8]\tvalidation-logloss:0.14842\tvalidation-f1_score:0.48548\n",
      "[9]\tvalidation-logloss:0.14525\tvalidation-f1_score:0.50612\n",
      "[10]\tvalidation-logloss:0.14336\tvalidation-f1_score:0.51111\n",
      "[11]\tvalidation-logloss:0.14173\tvalidation-f1_score:0.52295\n",
      "[12]\tvalidation-logloss:0.13987\tvalidation-f1_score:0.52122\n",
      "[13]\tvalidation-logloss:0.13848\tvalidation-f1_score:0.53110\n",
      "[14]\tvalidation-logloss:0.13725\tvalidation-f1_score:0.54439\n",
      "[15]\tvalidation-logloss:0.13568\tvalidation-f1_score:0.54845\n",
      "[16]\tvalidation-logloss:0.13524\tvalidation-f1_score:0.54985\n",
      "[17]\tvalidation-logloss:0.13460\tvalidation-f1_score:0.55352\n",
      "[18]\tvalidation-logloss:0.13385\tvalidation-f1_score:0.55630\n",
      "[19]\tvalidation-logloss:0.13344\tvalidation-f1_score:0.54947\n",
      "[20]\tvalidation-logloss:0.13252\tvalidation-f1_score:0.55992\n",
      "[21]\tvalidation-logloss:0.13194\tvalidation-f1_score:0.56870\n",
      "[22]\tvalidation-logloss:0.13141\tvalidation-f1_score:0.57307\n",
      "[23]\tvalidation-logloss:0.13108\tvalidation-f1_score:0.57333\n",
      "[24]\tvalidation-logloss:0.13093\tvalidation-f1_score:0.57524\n",
      "[25]\tvalidation-logloss:0.13027\tvalidation-f1_score:0.57634\n",
      "[26]\tvalidation-logloss:0.12983\tvalidation-f1_score:0.59112\n",
      "[27]\tvalidation-logloss:0.12956\tvalidation-f1_score:0.59023\n",
      "[28]\tvalidation-logloss:0.12963\tvalidation-f1_score:0.58779\n",
      "[29]\tvalidation-logloss:0.12877\tvalidation-f1_score:0.58412\n",
      "[30]\tvalidation-logloss:0.12850\tvalidation-f1_score:0.58278\n",
      "[31]\tvalidation-logloss:0.12892\tvalidation-f1_score:0.58546\n",
      "[32]\tvalidation-logloss:0.12811\tvalidation-f1_score:0.58412\n",
      "[33]\tvalidation-logloss:0.12794\tvalidation-f1_score:0.59078\n",
      "[34]\tvalidation-logloss:0.12737\tvalidation-f1_score:0.58812\n",
      "[35]\tvalidation-logloss:0.12778\tvalidation-f1_score:0.59566\n",
      "[36]\tvalidation-logloss:0.12726\tvalidation-f1_score:0.59510\n",
      "[37]\tvalidation-logloss:0.12692\tvalidation-f1_score:0.60019\n",
      "[38]\tvalidation-logloss:0.12663\tvalidation-f1_score:0.59699\n",
      "[39]\tvalidation-logloss:0.12639\tvalidation-f1_score:0.59943\n",
      "[40]\tvalidation-logloss:0.12634\tvalidation-f1_score:0.60561\n",
      "[41]\tvalidation-logloss:0.12679\tvalidation-f1_score:0.60225\n",
      "[42]\tvalidation-logloss:0.12690\tvalidation-f1_score:0.60374\n",
      "[43]\tvalidation-logloss:0.12652\tvalidation-f1_score:0.60578\n",
      "[44]\tvalidation-logloss:0.12669\tvalidation-f1_score:0.60797\n",
      "[45]\tvalidation-logloss:0.12695\tvalidation-f1_score:0.60741\n",
      "[46]\tvalidation-logloss:0.12768\tvalidation-f1_score:0.60517\n",
      "[47]\tvalidation-logloss:0.12833\tvalidation-f1_score:0.59851\n",
      "[48]\tvalidation-logloss:0.12819\tvalidation-f1_score:0.60093\n",
      "[49]\tvalidation-logloss:0.12789\tvalidation-f1_score:0.60448\n",
      "[50]\tvalidation-logloss:0.12814\tvalidation-f1_score:0.60261\n",
      "[51]\tvalidation-logloss:0.12826\tvalidation-f1_score:0.60724\n",
      "[52]\tvalidation-logloss:0.12858\tvalidation-f1_score:0.60595\n",
      "[53]\tvalidation-logloss:0.12884\tvalidation-f1_score:0.61055\n",
      "[54]\tvalidation-logloss:0.12884\tvalidation-f1_score:0.60998\n",
      "[55]\tvalidation-logloss:0.12902\tvalidation-f1_score:0.60998\n",
      "[56]\tvalidation-logloss:0.12939\tvalidation-f1_score:0.61368\n",
      "[57]\tvalidation-logloss:0.12963\tvalidation-f1_score:0.60685\n",
      "[58]\tvalidation-logloss:0.12993\tvalidation-f1_score:0.60998\n",
      "[59]\tvalidation-logloss:0.13046\tvalidation-f1_score:0.61157\n",
      "[60]\tvalidation-logloss:0.13108\tvalidation-f1_score:0.60774\n",
      "[61]\tvalidation-logloss:0.13153\tvalidation-f1_score:0.60917\n",
      "[62]\tvalidation-logloss:0.13204\tvalidation-f1_score:0.61101\n",
      "[63]\tvalidation-logloss:0.13187\tvalidation-f1_score:0.61397\n",
      "[64]\tvalidation-logloss:0.13244\tvalidation-f1_score:0.61284\n",
      "[65]\tvalidation-logloss:0.13290\tvalidation-f1_score:0.61874\n",
      "[66]\tvalidation-logloss:0.13315\tvalidation-f1_score:0.61651\n",
      "[67]\tvalidation-logloss:0.13296\tvalidation-f1_score:0.61581\n",
      "[68]\tvalidation-logloss:0.13325\tvalidation-f1_score:0.61835\n",
      "[69]\tvalidation-logloss:0.13312\tvalidation-f1_score:0.61665\n",
      "[70]\tvalidation-logloss:0.13333\tvalidation-f1_score:0.61538\n",
      "[71]\tvalidation-logloss:0.13336\tvalidation-f1_score:0.61411\n",
      "[72]\tvalidation-logloss:0.13331\tvalidation-f1_score:0.61454\n",
      "[73]\tvalidation-logloss:0.13361\tvalidation-f1_score:0.61142\n",
      "[74]\tvalidation-logloss:0.13388\tvalidation-f1_score:0.62018\n",
      "[75]\tvalidation-logloss:0.13460\tvalidation-f1_score:0.62271\n",
      "[76]\tvalidation-logloss:0.13474\tvalidation-f1_score:0.62385\n",
      "[77]\tvalidation-logloss:0.13483\tvalidation-f1_score:0.62271\n",
      "[78]\tvalidation-logloss:0.13487\tvalidation-f1_score:0.61879\n",
      "[79]\tvalidation-logloss:0.13527\tvalidation-f1_score:0.61198\n",
      "[80]\tvalidation-logloss:0.13536\tvalidation-f1_score:0.61624\n",
      "[81]\tvalidation-logloss:0.13550\tvalidation-f1_score:0.61694\n",
      "[82]\tvalidation-logloss:0.13556\tvalidation-f1_score:0.61835\n",
      "[83]\tvalidation-logloss:0.13559\tvalidation-f1_score:0.61524\n",
      "[84]\tvalidation-logloss:0.13583\tvalidation-f1_score:0.61905\n",
      "[85]\tvalidation-logloss:0.13620\tvalidation-f1_score:0.61792\n"
     ]
    }
   ],
   "source": [
    "import warnings\n",
    "\n",
    "# Suppress the specific warnings\n",
    "warnings.filterwarnings(\"ignore\", message=\"`feval` is deprecated\", category=UserWarning)\n",
    "warnings.filterwarnings(\"ignore\", message=\"Parameters: {\", category=UserWarning)\n",
    "\n",
    "params['eta']=.3\n",
    "\n",
    "xgb_model=xgb.train(params,dtrain,feval=custom_eval,num_boost_round=1000,maximize=True,evals=[(dvalid,\"validation\")],early_stopping_rounds=10)"
   ]
  },
  {
   "cell_type": "code",
   "execution_count": 82,
   "id": "82225eb1",
   "metadata": {},
   "outputs": [],
   "source": [
    "test_pred=xgb_model.predict(dtest) \n",
    "test['label']=(test_pred>=0.3).astype(np.int) \n",
    "submission=test[['id','label']]\n",
    "submission.to_csv('sub_xgb_w2v_finetuned.csv',index=False)"
   ]
  },
  {
   "cell_type": "code",
   "execution_count": 83,
   "id": "eb625cb5",
   "metadata": {},
   "outputs": [
    {
     "data": {
      "text/html": [
       "<div>\n",
       "<style scoped>\n",
       "    .dataframe tbody tr th:only-of-type {\n",
       "        vertical-align: middle;\n",
       "    }\n",
       "\n",
       "    .dataframe tbody tr th {\n",
       "        vertical-align: top;\n",
       "    }\n",
       "\n",
       "    .dataframe thead th {\n",
       "        text-align: right;\n",
       "    }\n",
       "</style>\n",
       "<table border=\"1\" class=\"dataframe\">\n",
       "  <thead>\n",
       "    <tr style=\"text-align: right;\">\n",
       "      <th></th>\n",
       "      <th>id</th>\n",
       "      <th>label</th>\n",
       "    </tr>\n",
       "  </thead>\n",
       "  <tbody>\n",
       "    <tr>\n",
       "      <th>0</th>\n",
       "      <td>31963</td>\n",
       "      <td>0</td>\n",
       "    </tr>\n",
       "    <tr>\n",
       "      <th>1</th>\n",
       "      <td>31964</td>\n",
       "      <td>0</td>\n",
       "    </tr>\n",
       "    <tr>\n",
       "      <th>2</th>\n",
       "      <td>31965</td>\n",
       "      <td>0</td>\n",
       "    </tr>\n",
       "    <tr>\n",
       "      <th>3</th>\n",
       "      <td>31966</td>\n",
       "      <td>0</td>\n",
       "    </tr>\n",
       "    <tr>\n",
       "      <th>4</th>\n",
       "      <td>31967</td>\n",
       "      <td>0</td>\n",
       "    </tr>\n",
       "    <tr>\n",
       "      <th>...</th>\n",
       "      <td>...</td>\n",
       "      <td>...</td>\n",
       "    </tr>\n",
       "    <tr>\n",
       "      <th>17192</th>\n",
       "      <td>49155</td>\n",
       "      <td>1</td>\n",
       "    </tr>\n",
       "    <tr>\n",
       "      <th>17193</th>\n",
       "      <td>49156</td>\n",
       "      <td>0</td>\n",
       "    </tr>\n",
       "    <tr>\n",
       "      <th>17194</th>\n",
       "      <td>49157</td>\n",
       "      <td>0</td>\n",
       "    </tr>\n",
       "    <tr>\n",
       "      <th>17195</th>\n",
       "      <td>49158</td>\n",
       "      <td>0</td>\n",
       "    </tr>\n",
       "    <tr>\n",
       "      <th>17196</th>\n",
       "      <td>49159</td>\n",
       "      <td>0</td>\n",
       "    </tr>\n",
       "  </tbody>\n",
       "</table>\n",
       "<p>17197 rows × 2 columns</p>\n",
       "</div>"
      ],
      "text/plain": [
       "          id  label\n",
       "0      31963      0\n",
       "1      31964      0\n",
       "2      31965      0\n",
       "3      31966      0\n",
       "4      31967      0\n",
       "...      ...    ...\n",
       "17192  49155      1\n",
       "17193  49156      0\n",
       "17194  49157      0\n",
       "17195  49158      0\n",
       "17196  49159      0\n",
       "\n",
       "[17197 rows x 2 columns]"
      ]
     },
     "execution_count": 83,
     "metadata": {},
     "output_type": "execute_result"
    }
   ],
   "source": [
    "submission"
   ]
  },
  {
   "cell_type": "markdown",
   "id": "4aceed48",
   "metadata": {},
   "source": []
  }
 ],
 "metadata": {
  "kernelspec": {
   "display_name": "Python 3 (ipykernel)",
   "language": "python",
   "name": "python3"
  },
  "language_info": {
   "codemirror_mode": {
    "name": "ipython",
    "version": 3
   },
   "file_extension": ".py",
   "mimetype": "text/x-python",
   "name": "python",
   "nbconvert_exporter": "python",
   "pygments_lexer": "ipython3",
   "version": "3.9.12"
  }
 },
 "nbformat": 4,
 "nbformat_minor": 5
}
